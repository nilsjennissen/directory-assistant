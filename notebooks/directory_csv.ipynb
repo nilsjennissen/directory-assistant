{
 "cells": [
  {
   "cell_type": "code",
   "execution_count": 1,
   "outputs": [
    {
     "name": "stdout",
     "output_type": "stream",
     "text": [
      "/Users/nilsjennissen/PycharmProjects/directory-assistant/notebooks\n"
     ]
    }
   ],
   "source": [
    "from pathlib import Path\n",
    "import pandas as pd\n",
    "import os\n",
    "\n",
    "# Use pathlib to get the path of the current script\n",
    "script_dir = os.getcwd()\n",
    "print(script_dir)"
   ],
   "metadata": {
    "collapsed": false,
    "ExecuteTime": {
     "end_time": "2023-05-14T11:20:07.986503Z",
     "start_time": "2023-05-14T11:20:07.470806Z"
    }
   }
  },
  {
   "cell_type": "code",
   "execution_count": 2,
   "outputs": [],
   "source": [
    "class DisplayablePath(object):\n",
    "    display_filename_prefix_middle = '├──'\n",
    "    display_filename_prefix_last = '└──'\n",
    "    display_parent_prefix_middle = '    '\n",
    "    display_parent_prefix_last = '│   '\n",
    "\n",
    "    def __init__(self, path, parent_path, is_last):\n",
    "        self.path = Path(str(path))\n",
    "        self.parent = parent_path\n",
    "        self.is_last = is_last\n",
    "        if self.parent:\n",
    "            self.depth = self.parent.depth + 1\n",
    "        else:\n",
    "            self.depth = 0\n",
    "\n",
    "    @property\n",
    "    def displayname(self):\n",
    "        if self.path.is_dir():\n",
    "            return self.path.name + '/'\n",
    "        return self.path.name\n",
    "\n",
    "    @classmethod\n",
    "    def make_tree(cls, root, parent=None, is_last=False, criteria=None):\n",
    "        root = Path(str(root))\n",
    "        criteria = criteria or cls._default_criteria\n",
    "\n",
    "        displayable_root = cls(root, parent, is_last)\n",
    "        yield displayable_root\n",
    "\n",
    "        # Specify criteria to exclude directories/files\n",
    "        children = sorted(list(path\n",
    "                               for path in root.glob('*')  # for path in root.iterdir() <- all files\n",
    "                               if not path.name.startswith('.') and criteria(path)),  # if criteria(path)),\n",
    "                          key=lambda s: str(s).lower())\n",
    "        count = 1\n",
    "        for path in children:\n",
    "            is_last = count == len(children)\n",
    "            if path.is_dir():\n",
    "                yield from cls.make_tree(path,\n",
    "                                         parent=displayable_root,\n",
    "                                         is_last=is_last,\n",
    "                                         criteria=criteria)\n",
    "            else:\n",
    "                yield cls(path, displayable_root, is_last)\n",
    "            count += 1\n",
    "\n",
    "    @classmethod\n",
    "    def _default_criteria(cls, path):\n",
    "        return True\n",
    "\n",
    "    @property\n",
    "    def displayname(self):\n",
    "        if self.path.is_dir():\n",
    "            return self.path.name + '/'\n",
    "        return self.path.name\n",
    "\n",
    "    def displayable(self):\n",
    "        if self.parent is None:\n",
    "            return self.displayname\n",
    "\n",
    "        _filename_prefix = (self.display_filename_prefix_last\n",
    "                            if self.is_last\n",
    "                            else self.display_filename_prefix_middle)\n",
    "\n",
    "        parts = ['{!s} {!s}'.format(_filename_prefix,\n",
    "                                    self.displayname)]\n",
    "\n",
    "        parent = self.parent\n",
    "        while parent and parent.parent is not None:\n",
    "            parts.append(self.display_parent_prefix_middle\n",
    "                         if parent.is_last\n",
    "                         else self.display_parent_prefix_last)\n",
    "            parent = parent.parent\n",
    "\n",
    "        return ''.join(reversed(parts))\n",
    "\n",
    "\n",
    "def get_tree_df(path, criteria=None):\n",
    "    paths = list(DisplayablePath.make_tree(Path.home() / path, criteria=criteria))\n",
    "    tree_list = []\n",
    "    for path in paths:\n",
    "        depth = path.depth\n",
    "        name = path.displayname\n",
    "        path_str = str(path.path)\n",
    "        is_dir = path.path.is_dir()\n",
    "        tree_list.append((depth, name, path_str, is_dir))\n",
    "    df = pd.DataFrame(tree_list, columns=['depth', 'name', 'path', 'is_dir'])\n",
    "    return df"
   ],
   "metadata": {
    "collapsed": false,
    "ExecuteTime": {
     "end_time": "2023-05-12T19:59:18.943655Z",
     "start_time": "2023-05-12T19:59:18.934962Z"
    }
   }
  },
  {
   "cell_type": "code",
   "execution_count": 3,
   "outputs": [
    {
     "name": "stdout",
     "output_type": "stream",
     "text": [
      "    depth                    name   \n",
      "0       0            simulations/  \\\n",
      "1       1          conway_life.py   \n",
      "2       1                   data/   \n",
      "3       1                   gifs/   \n",
      "4       2                7fpp.gif   \n",
      "5       2                7fps.gif   \n",
      "6       2                7fpw.gif   \n",
      "7       2           animation.gif   \n",
      "8       2      animation_test.gif   \n",
      "9       2          extra_wide.gif   \n",
      "10      2          gen_100_20.gif   \n",
      "11      2            gen_1_40.gif   \n",
      "12      2           gen_50_20.gif   \n",
      "13      2           gen_50_40.gif   \n",
      "14      2            gen_5_40.gif   \n",
      "15      2                wide.gif   \n",
      "16      2         wrong_order.gif   \n",
      "17      1                 LICENSE   \n",
      "18      1                 models/   \n",
      "19      1              notebooks/   \n",
      "20      2        create_gif.ipynb   \n",
      "21      2  simulation_class.ipynb   \n",
      "22      2   simulation_func.ipynb   \n",
      "23      2     simulation_nn.ipynb   \n",
      "24      1               README.md   \n",
      "25      1        requirements.txt   \n",
      "26      1           simulation.py   \n",
      "27      1       simulation_gif.py   \n",
      "28      1        simulation_nn.py   \n",
      "\n",
      "                                                 path  is_dir  \n",
      "0    /Users/nilsjennissen/PycharmProjects/simulations    True  \n",
      "1   /Users/nilsjennissen/PycharmProjects/simulatio...   False  \n",
      "2   /Users/nilsjennissen/PycharmProjects/simulatio...    True  \n",
      "3   /Users/nilsjennissen/PycharmProjects/simulatio...    True  \n",
      "4   /Users/nilsjennissen/PycharmProjects/simulatio...   False  \n",
      "5   /Users/nilsjennissen/PycharmProjects/simulatio...   False  \n",
      "6   /Users/nilsjennissen/PycharmProjects/simulatio...   False  \n",
      "7   /Users/nilsjennissen/PycharmProjects/simulatio...   False  \n",
      "8   /Users/nilsjennissen/PycharmProjects/simulatio...   False  \n",
      "9   /Users/nilsjennissen/PycharmProjects/simulatio...   False  \n",
      "10  /Users/nilsjennissen/PycharmProjects/simulatio...   False  \n",
      "11  /Users/nilsjennissen/PycharmProjects/simulatio...   False  \n",
      "12  /Users/nilsjennissen/PycharmProjects/simulatio...   False  \n",
      "13  /Users/nilsjennissen/PycharmProjects/simulatio...   False  \n",
      "14  /Users/nilsjennissen/PycharmProjects/simulatio...   False  \n",
      "15  /Users/nilsjennissen/PycharmProjects/simulatio...   False  \n",
      "16  /Users/nilsjennissen/PycharmProjects/simulatio...   False  \n",
      "17  /Users/nilsjennissen/PycharmProjects/simulatio...   False  \n",
      "18  /Users/nilsjennissen/PycharmProjects/simulatio...    True  \n",
      "19  /Users/nilsjennissen/PycharmProjects/simulatio...    True  \n",
      "20  /Users/nilsjennissen/PycharmProjects/simulatio...   False  \n",
      "21  /Users/nilsjennissen/PycharmProjects/simulatio...   False  \n",
      "22  /Users/nilsjennissen/PycharmProjects/simulatio...   False  \n",
      "23  /Users/nilsjennissen/PycharmProjects/simulatio...   False  \n",
      "24  /Users/nilsjennissen/PycharmProjects/simulatio...   False  \n",
      "25  /Users/nilsjennissen/PycharmProjects/simulatio...   False  \n",
      "26  /Users/nilsjennissen/PycharmProjects/simulatio...   False  \n",
      "27  /Users/nilsjennissen/PycharmProjects/simulatio...   False  \n",
      "28  /Users/nilsjennissen/PycharmProjects/simulatio...   False  \n"
     ]
    }
   ],
   "source": [
    "path = \"PycharmProjects/simulations\"\n",
    "dir_tree = get_tree_df(path)\n",
    "\n",
    "print(dir_tree)"
   ],
   "metadata": {
    "collapsed": false,
    "ExecuteTime": {
     "end_time": "2023-05-12T19:59:18.951623Z",
     "start_time": "2023-05-12T19:59:18.945119Z"
    }
   }
  },
  {
   "cell_type": "code",
   "execution_count": 4,
   "outputs": [],
   "source": [
    "dir_tree.to_csv(f'../data/directory.csv', index=False)\n"
   ],
   "metadata": {
    "collapsed": false,
    "ExecuteTime": {
     "end_time": "2023-05-12T19:59:18.969945Z",
     "start_time": "2023-05-12T19:59:18.953083Z"
    }
   }
  },
  {
   "cell_type": "markdown",
   "source": [
    "## Enhancing the information"
   ],
   "metadata": {
    "collapsed": false
   }
  },
  {
   "cell_type": "code",
   "execution_count": 12,
   "outputs": [],
   "source": [
    "# Read CSV\n",
    "dir = pd.read_csv('../data/directory.csv')"
   ],
   "metadata": {
    "collapsed": false,
    "ExecuteTime": {
     "end_time": "2023-05-12T20:04:50.366706Z",
     "start_time": "2023-05-12T20:04:50.360270Z"
    }
   }
  },
  {
   "cell_type": "code",
   "execution_count": 13,
   "outputs": [
    {
     "data": {
      "text/plain": "   depth            name                                               path   \n0      0    simulations/   /Users/nilsjennissen/PycharmProjects/simulations  \\\n1      1  conway_life.py  /Users/nilsjennissen/PycharmProjects/simulatio...   \n2      1           data/  /Users/nilsjennissen/PycharmProjects/simulatio...   \n3      1           gifs/  /Users/nilsjennissen/PycharmProjects/simulatio...   \n4      2        7fpp.gif  /Users/nilsjennissen/PycharmProjects/simulatio...   \n\n   is_dir  \n0    True  \n1   False  \n2    True  \n3    True  \n4   False  ",
      "text/html": "<div>\n<style scoped>\n    .dataframe tbody tr th:only-of-type {\n        vertical-align: middle;\n    }\n\n    .dataframe tbody tr th {\n        vertical-align: top;\n    }\n\n    .dataframe thead th {\n        text-align: right;\n    }\n</style>\n<table border=\"1\" class=\"dataframe\">\n  <thead>\n    <tr style=\"text-align: right;\">\n      <th></th>\n      <th>depth</th>\n      <th>name</th>\n      <th>path</th>\n      <th>is_dir</th>\n    </tr>\n  </thead>\n  <tbody>\n    <tr>\n      <th>0</th>\n      <td>0</td>\n      <td>simulations/</td>\n      <td>/Users/nilsjennissen/PycharmProjects/simulations</td>\n      <td>True</td>\n    </tr>\n    <tr>\n      <th>1</th>\n      <td>1</td>\n      <td>conway_life.py</td>\n      <td>/Users/nilsjennissen/PycharmProjects/simulatio...</td>\n      <td>False</td>\n    </tr>\n    <tr>\n      <th>2</th>\n      <td>1</td>\n      <td>data/</td>\n      <td>/Users/nilsjennissen/PycharmProjects/simulatio...</td>\n      <td>True</td>\n    </tr>\n    <tr>\n      <th>3</th>\n      <td>1</td>\n      <td>gifs/</td>\n      <td>/Users/nilsjennissen/PycharmProjects/simulatio...</td>\n      <td>True</td>\n    </tr>\n    <tr>\n      <th>4</th>\n      <td>2</td>\n      <td>7fpp.gif</td>\n      <td>/Users/nilsjennissen/PycharmProjects/simulatio...</td>\n      <td>False</td>\n    </tr>\n  </tbody>\n</table>\n</div>"
     },
     "execution_count": 13,
     "metadata": {},
     "output_type": "execute_result"
    }
   ],
   "source": [
    "dir.head()"
   ],
   "metadata": {
    "collapsed": false,
    "ExecuteTime": {
     "end_time": "2023-05-12T20:04:50.884416Z",
     "start_time": "2023-05-12T20:04:50.881266Z"
    }
   }
  },
  {
   "cell_type": "code",
   "execution_count": 14,
   "outputs": [
    {
     "data": {
      "text/plain": "   depth            name                                               path   \n0      0    simulations/   /Users/nilsjennissen/PycharmProjects/simulations  \\\n1      1  conway_life.py  /Users/nilsjennissen/PycharmProjects/simulatio...   \n2      1           data/  /Users/nilsjennissen/PycharmProjects/simulatio...   \n3      1           gifs/  /Users/nilsjennissen/PycharmProjects/simulatio...   \n4      2        7fpp.gif  /Users/nilsjennissen/PycharmProjects/simulatio...   \n\n   is_dir    parent_folder  \n0    True  PycharmProjects  \n1   False      simulations  \n2    True      simulations  \n3    True      simulations  \n4   False             gifs  ",
      "text/html": "<div>\n<style scoped>\n    .dataframe tbody tr th:only-of-type {\n        vertical-align: middle;\n    }\n\n    .dataframe tbody tr th {\n        vertical-align: top;\n    }\n\n    .dataframe thead th {\n        text-align: right;\n    }\n</style>\n<table border=\"1\" class=\"dataframe\">\n  <thead>\n    <tr style=\"text-align: right;\">\n      <th></th>\n      <th>depth</th>\n      <th>name</th>\n      <th>path</th>\n      <th>is_dir</th>\n      <th>parent_folder</th>\n    </tr>\n  </thead>\n  <tbody>\n    <tr>\n      <th>0</th>\n      <td>0</td>\n      <td>simulations/</td>\n      <td>/Users/nilsjennissen/PycharmProjects/simulations</td>\n      <td>True</td>\n      <td>PycharmProjects</td>\n    </tr>\n    <tr>\n      <th>1</th>\n      <td>1</td>\n      <td>conway_life.py</td>\n      <td>/Users/nilsjennissen/PycharmProjects/simulatio...</td>\n      <td>False</td>\n      <td>simulations</td>\n    </tr>\n    <tr>\n      <th>2</th>\n      <td>1</td>\n      <td>data/</td>\n      <td>/Users/nilsjennissen/PycharmProjects/simulatio...</td>\n      <td>True</td>\n      <td>simulations</td>\n    </tr>\n    <tr>\n      <th>3</th>\n      <td>1</td>\n      <td>gifs/</td>\n      <td>/Users/nilsjennissen/PycharmProjects/simulatio...</td>\n      <td>True</td>\n      <td>simulations</td>\n    </tr>\n    <tr>\n      <th>4</th>\n      <td>2</td>\n      <td>7fpp.gif</td>\n      <td>/Users/nilsjennissen/PycharmProjects/simulatio...</td>\n      <td>False</td>\n      <td>gifs</td>\n    </tr>\n  </tbody>\n</table>\n</div>"
     },
     "execution_count": 14,
     "metadata": {},
     "output_type": "execute_result"
    }
   ],
   "source": [],
   "metadata": {
    "collapsed": false,
    "ExecuteTime": {
     "end_time": "2023-05-12T20:04:51.531787Z",
     "start_time": "2023-05-12T20:04:51.528603Z"
    }
   }
  }
 ],
 "metadata": {
  "kernelspec": {
   "display_name": "Python 3",
   "language": "python",
   "name": "python3"
  },
  "language_info": {
   "codemirror_mode": {
    "name": "ipython",
    "version": 2
   },
   "file_extension": ".py",
   "mimetype": "text/x-python",
   "name": "python",
   "nbconvert_exporter": "python",
   "pygments_lexer": "ipython2",
   "version": "2.7.6"
  }
 },
 "nbformat": 4,
 "nbformat_minor": 0
}
