{
 "cells": [
  {
   "cell_type": "code",
   "execution_count": 3,
   "outputs": [],
   "source": [
    "import pandas as pd\n",
    "import pathlib\n",
    "import glob"
   ],
   "metadata": {
    "collapsed": false,
    "ExecuteTime": {
     "end_time": "2023-05-14T15:12:52.447378Z",
     "start_time": "2023-05-14T15:12:50.042496Z"
    }
   }
  },
  {
   "cell_type": "code",
   "execution_count": 5,
   "metadata": {
    "collapsed": true,
    "ExecuteTime": {
     "end_time": "2023-05-12T21:07:52.829982Z",
     "start_time": "2023-05-12T21:07:51.347018Z"
    }
   },
   "outputs": [],
   "source": [
    "path = pathlib.Path('/Users/nilsjennissen/Documents/02_PRIVAT/01_STUDIUM/01_BTS/04_Data_Science_Foundations')\n",
    "df = pd.DataFrame(path.rglob('*'))\n",
    "df = df.rename(columns={0: 'Filepath'})\n",
    "\n",
    "# Create a column with the filename\n",
    "df['Filename'] = df['Filepath'].apply(lambda x: x.name)\n",
    "# Create a column with the file extension\n",
    "df['Fileextension'] = df['Filepath'].apply(lambda x: x.suffix)\n",
    "# Create a column with the file size\n",
    "df['Filesize'] = df['Filepath'].apply(lambda x: x.stat().st_size)\n",
    "# Create a column with the file creation date\n",
    "df['Filecreationdate'] = df['Filepath'].apply(lambda x: x.stat().st_ctime)\n",
    "# Create a column with the file modification date\n",
    "df['Filemodificationdate'] = df['Filepath'].apply(lambda x: x.stat().st_mtime)\n",
    "\n",
    "# - Data Transformation -\n",
    "# Transform date to datetime\n",
    "df['Filecreationdate'] = pd.to_datetime(df['Filecreationdate'], unit='s')\n",
    "df['Filemodificationdate'] = pd.to_datetime(df['Filemodificationdate'], unit='s')"
   ]
  },
  {
   "cell_type": "code",
   "execution_count": 6,
   "outputs": [
    {
     "data": {
      "text/plain": "                                            Filepath             Filename   \n0  /Users/nilsjennissen/Documents/02_PRIVAT/01_ST...  Assignment8Bacteria  \\\n1  /Users/nilsjennissen/Documents/02_PRIVAT/01_ST...          Assignment1   \n2  /Users/nilsjennissen/Documents/02_PRIVAT/01_ST...            .DS_Store   \n3  /Users/nilsjennissen/Documents/02_PRIVAT/01_ST...             Lecture2   \n4  /Users/nilsjennissen/Documents/02_PRIVAT/01_ST...             Lecture5   \n\n  Fileextension  Filesize              Filecreationdate   \n0                     288 2022-12-01 17:19:26.951033344  \\\n1                     544 2023-05-10 23:11:12.736709120   \n2                   12292 2023-04-30 01:51:21.110024704   \n3                     320 2022-11-29 13:31:40.031290368   \n4                     384 2023-02-01 14:51:31.832541184   \n\n           Filemodificationdate  \n0 2022-12-01 17:16:31.000000000  \n1 2023-05-10 23:11:08.000000000  \n2 2023-04-30 01:51:21.110024704  \n3 2022-11-29 13:31:39.000000000  \n4 2023-02-01 14:51:26.000000000  ",
      "text/html": "<div>\n<style scoped>\n    .dataframe tbody tr th:only-of-type {\n        vertical-align: middle;\n    }\n\n    .dataframe tbody tr th {\n        vertical-align: top;\n    }\n\n    .dataframe thead th {\n        text-align: right;\n    }\n</style>\n<table border=\"1\" class=\"dataframe\">\n  <thead>\n    <tr style=\"text-align: right;\">\n      <th></th>\n      <th>Filepath</th>\n      <th>Filename</th>\n      <th>Fileextension</th>\n      <th>Filesize</th>\n      <th>Filecreationdate</th>\n      <th>Filemodificationdate</th>\n    </tr>\n  </thead>\n  <tbody>\n    <tr>\n      <th>0</th>\n      <td>/Users/nilsjennissen/Documents/02_PRIVAT/01_ST...</td>\n      <td>Assignment8Bacteria</td>\n      <td></td>\n      <td>288</td>\n      <td>2022-12-01 17:19:26.951033344</td>\n      <td>2022-12-01 17:16:31.000000000</td>\n    </tr>\n    <tr>\n      <th>1</th>\n      <td>/Users/nilsjennissen/Documents/02_PRIVAT/01_ST...</td>\n      <td>Assignment1</td>\n      <td></td>\n      <td>544</td>\n      <td>2023-05-10 23:11:12.736709120</td>\n      <td>2023-05-10 23:11:08.000000000</td>\n    </tr>\n    <tr>\n      <th>2</th>\n      <td>/Users/nilsjennissen/Documents/02_PRIVAT/01_ST...</td>\n      <td>.DS_Store</td>\n      <td></td>\n      <td>12292</td>\n      <td>2023-04-30 01:51:21.110024704</td>\n      <td>2023-04-30 01:51:21.110024704</td>\n    </tr>\n    <tr>\n      <th>3</th>\n      <td>/Users/nilsjennissen/Documents/02_PRIVAT/01_ST...</td>\n      <td>Lecture2</td>\n      <td></td>\n      <td>320</td>\n      <td>2022-11-29 13:31:40.031290368</td>\n      <td>2022-11-29 13:31:39.000000000</td>\n    </tr>\n    <tr>\n      <th>4</th>\n      <td>/Users/nilsjennissen/Documents/02_PRIVAT/01_ST...</td>\n      <td>Lecture5</td>\n      <td></td>\n      <td>384</td>\n      <td>2023-02-01 14:51:31.832541184</td>\n      <td>2023-02-01 14:51:26.000000000</td>\n    </tr>\n  </tbody>\n</table>\n</div>"
     },
     "execution_count": 6,
     "metadata": {},
     "output_type": "execute_result"
    }
   ],
   "source": [
    "df.head()"
   ],
   "metadata": {
    "collapsed": false,
    "ExecuteTime": {
     "end_time": "2023-05-12T21:07:54.088734Z",
     "start_time": "2023-05-12T21:07:54.083286Z"
    }
   }
  },
  {
   "cell_type": "code",
   "execution_count": 7,
   "outputs": [
    {
     "data": {
      "text/plain": "                                            Filepath             Filename   \n0  /Users/nilsjennissen/Documents/02_PRIVAT/01_ST...  Assignment8Bacteria  \\\n1  /Users/nilsjennissen/Documents/02_PRIVAT/01_ST...          Assignment1   \n2  /Users/nilsjennissen/Documents/02_PRIVAT/01_ST...            .DS_Store   \n3  /Users/nilsjennissen/Documents/02_PRIVAT/01_ST...             Lecture2   \n4  /Users/nilsjennissen/Documents/02_PRIVAT/01_ST...             Lecture5   \n\n  Fileextension  Filesize              Filecreationdate   \n0                     288 2022-12-01 17:19:26.951033344  \\\n1                     544 2023-05-10 23:11:12.736709120   \n2                   12292 2023-04-30 01:51:21.110024704   \n3                     320 2022-11-29 13:31:40.031290368   \n4                     384 2023-02-01 14:51:31.832541184   \n\n           Filemodificationdate Modifiedthisweek  \n0 2022-12-01 17:16:31.000000000            Older  \n1 2023-05-10 23:11:08.000000000       This week!  \n2 2023-04-30 01:51:21.110024704            Older  \n3 2022-11-29 13:31:39.000000000            Older  \n4 2023-02-01 14:51:26.000000000            Older  ",
      "text/html": "<div>\n<style scoped>\n    .dataframe tbody tr th:only-of-type {\n        vertical-align: middle;\n    }\n\n    .dataframe tbody tr th {\n        vertical-align: top;\n    }\n\n    .dataframe thead th {\n        text-align: right;\n    }\n</style>\n<table border=\"1\" class=\"dataframe\">\n  <thead>\n    <tr style=\"text-align: right;\">\n      <th></th>\n      <th>Filepath</th>\n      <th>Filename</th>\n      <th>Fileextension</th>\n      <th>Filesize</th>\n      <th>Filecreationdate</th>\n      <th>Filemodificationdate</th>\n      <th>Modifiedthisweek</th>\n    </tr>\n  </thead>\n  <tbody>\n    <tr>\n      <th>0</th>\n      <td>/Users/nilsjennissen/Documents/02_PRIVAT/01_ST...</td>\n      <td>Assignment8Bacteria</td>\n      <td></td>\n      <td>288</td>\n      <td>2022-12-01 17:19:26.951033344</td>\n      <td>2022-12-01 17:16:31.000000000</td>\n      <td>Older</td>\n    </tr>\n    <tr>\n      <th>1</th>\n      <td>/Users/nilsjennissen/Documents/02_PRIVAT/01_ST...</td>\n      <td>Assignment1</td>\n      <td></td>\n      <td>544</td>\n      <td>2023-05-10 23:11:12.736709120</td>\n      <td>2023-05-10 23:11:08.000000000</td>\n      <td>This week!</td>\n    </tr>\n    <tr>\n      <th>2</th>\n      <td>/Users/nilsjennissen/Documents/02_PRIVAT/01_ST...</td>\n      <td>.DS_Store</td>\n      <td></td>\n      <td>12292</td>\n      <td>2023-04-30 01:51:21.110024704</td>\n      <td>2023-04-30 01:51:21.110024704</td>\n      <td>Older</td>\n    </tr>\n    <tr>\n      <th>3</th>\n      <td>/Users/nilsjennissen/Documents/02_PRIVAT/01_ST...</td>\n      <td>Lecture2</td>\n      <td></td>\n      <td>320</td>\n      <td>2022-11-29 13:31:40.031290368</td>\n      <td>2022-11-29 13:31:39.000000000</td>\n      <td>Older</td>\n    </tr>\n    <tr>\n      <th>4</th>\n      <td>/Users/nilsjennissen/Documents/02_PRIVAT/01_ST...</td>\n      <td>Lecture5</td>\n      <td></td>\n      <td>384</td>\n      <td>2023-02-01 14:51:31.832541184</td>\n      <td>2023-02-01 14:51:26.000000000</td>\n      <td>Older</td>\n    </tr>\n  </tbody>\n</table>\n</div>"
     },
     "execution_count": 7,
     "metadata": {},
     "output_type": "execute_result"
    }
   ],
   "source": [
    "# Create column for files that have been modified this week\n",
    "df['Modifiedthisweek'] = df['Filemodificationdate'].apply(lambda x: 'This week!' if x > pd.Timestamp.now() - pd.Timedelta(days=7) else 'Older')\n",
    "df.head()"
   ],
   "metadata": {
    "collapsed": false,
    "ExecuteTime": {
     "end_time": "2023-05-12T21:07:55.106759Z",
     "start_time": "2023-05-12T21:07:54.862786Z"
    }
   }
  },
  {
   "cell_type": "code",
   "execution_count": 8,
   "outputs": [
    {
     "data": {
      "text/plain": "                                            Filepath             Filename   \n0  /Users/nilsjennissen/Documents/02_PRIVAT/01_ST...  Assignment8Bacteria  \\\n1  /Users/nilsjennissen/Documents/02_PRIVAT/01_ST...          Assignment1   \n2  /Users/nilsjennissen/Documents/02_PRIVAT/01_ST...            .DS_Store   \n3  /Users/nilsjennissen/Documents/02_PRIVAT/01_ST...             Lecture2   \n4  /Users/nilsjennissen/Documents/02_PRIVAT/01_ST...             Lecture5   \n\n  Fileextension  Filesize Filecreationdate Filemodificationdate   \n0                     288       2022-12-01           2022-12-01  \\\n1                     544       2023-05-10           2023-05-10   \n2                   12292       2023-04-30           2023-04-30   \n3                     320       2022-11-29           2022-11-29   \n4                     384       2023-02-01           2023-02-01   \n\n  Modifiedthisweek  \n0            Older  \n1       This week!  \n2            Older  \n3            Older  \n4            Older  ",
      "text/html": "<div>\n<style scoped>\n    .dataframe tbody tr th:only-of-type {\n        vertical-align: middle;\n    }\n\n    .dataframe tbody tr th {\n        vertical-align: top;\n    }\n\n    .dataframe thead th {\n        text-align: right;\n    }\n</style>\n<table border=\"1\" class=\"dataframe\">\n  <thead>\n    <tr style=\"text-align: right;\">\n      <th></th>\n      <th>Filepath</th>\n      <th>Filename</th>\n      <th>Fileextension</th>\n      <th>Filesize</th>\n      <th>Filecreationdate</th>\n      <th>Filemodificationdate</th>\n      <th>Modifiedthisweek</th>\n    </tr>\n  </thead>\n  <tbody>\n    <tr>\n      <th>0</th>\n      <td>/Users/nilsjennissen/Documents/02_PRIVAT/01_ST...</td>\n      <td>Assignment8Bacteria</td>\n      <td></td>\n      <td>288</td>\n      <td>2022-12-01</td>\n      <td>2022-12-01</td>\n      <td>Older</td>\n    </tr>\n    <tr>\n      <th>1</th>\n      <td>/Users/nilsjennissen/Documents/02_PRIVAT/01_ST...</td>\n      <td>Assignment1</td>\n      <td></td>\n      <td>544</td>\n      <td>2023-05-10</td>\n      <td>2023-05-10</td>\n      <td>This week!</td>\n    </tr>\n    <tr>\n      <th>2</th>\n      <td>/Users/nilsjennissen/Documents/02_PRIVAT/01_ST...</td>\n      <td>.DS_Store</td>\n      <td></td>\n      <td>12292</td>\n      <td>2023-04-30</td>\n      <td>2023-04-30</td>\n      <td>Older</td>\n    </tr>\n    <tr>\n      <th>3</th>\n      <td>/Users/nilsjennissen/Documents/02_PRIVAT/01_ST...</td>\n      <td>Lecture2</td>\n      <td></td>\n      <td>320</td>\n      <td>2022-11-29</td>\n      <td>2022-11-29</td>\n      <td>Older</td>\n    </tr>\n    <tr>\n      <th>4</th>\n      <td>/Users/nilsjennissen/Documents/02_PRIVAT/01_ST...</td>\n      <td>Lecture5</td>\n      <td></td>\n      <td>384</td>\n      <td>2023-02-01</td>\n      <td>2023-02-01</td>\n      <td>Older</td>\n    </tr>\n  </tbody>\n</table>\n</div>"
     },
     "execution_count": 8,
     "metadata": {},
     "output_type": "execute_result"
    }
   ],
   "source": [
    "# Transform Filecreationdate to date format\n",
    "df['Filecreationdate'] = df['Filecreationdate'].dt.date\n",
    "df['Filemodificationdate'] = df['Filemodificationdate'].dt.date\n",
    "\n",
    "df.head()"
   ],
   "metadata": {
    "collapsed": false,
    "ExecuteTime": {
     "end_time": "2023-05-12T21:07:55.837087Z",
     "start_time": "2023-05-12T21:07:55.822515Z"
    }
   }
  },
  {
   "cell_type": "code",
   "execution_count": 9,
   "outputs": [
    {
     "data": {
      "text/plain": "                                            Filepath             Filename   \n0  /Users/nilsjennissen/Documents/02_PRIVAT/01_ST...  Assignment8Bacteria  \\\n1  /Users/nilsjennissen/Documents/02_PRIVAT/01_ST...          Assignment1   \n2  /Users/nilsjennissen/Documents/02_PRIVAT/01_ST...            .DS_Store   \n3  /Users/nilsjennissen/Documents/02_PRIVAT/01_ST...             Lecture2   \n4  /Users/nilsjennissen/Documents/02_PRIVAT/01_ST...             Lecture5   \n\n  Fileextension  Filesize Filecreationdate Filemodificationdate   \n0                     288       2022-12-01           2022-12-01  \\\n1                     544       2023-05-10           2023-05-10   \n2                   12292       2023-04-30           2023-04-30   \n3                     320       2022-11-29           2022-11-29   \n4                     384       2023-02-01           2023-02-01   \n\n  Modifiedthisweek Fileorfolder  \n0            Older       Folder  \n1       This week!       Folder  \n2            Older       Folder  \n3            Older       Folder  \n4            Older       Folder  ",
      "text/html": "<div>\n<style scoped>\n    .dataframe tbody tr th:only-of-type {\n        vertical-align: middle;\n    }\n\n    .dataframe tbody tr th {\n        vertical-align: top;\n    }\n\n    .dataframe thead th {\n        text-align: right;\n    }\n</style>\n<table border=\"1\" class=\"dataframe\">\n  <thead>\n    <tr style=\"text-align: right;\">\n      <th></th>\n      <th>Filepath</th>\n      <th>Filename</th>\n      <th>Fileextension</th>\n      <th>Filesize</th>\n      <th>Filecreationdate</th>\n      <th>Filemodificationdate</th>\n      <th>Modifiedthisweek</th>\n      <th>Fileorfolder</th>\n    </tr>\n  </thead>\n  <tbody>\n    <tr>\n      <th>0</th>\n      <td>/Users/nilsjennissen/Documents/02_PRIVAT/01_ST...</td>\n      <td>Assignment8Bacteria</td>\n      <td></td>\n      <td>288</td>\n      <td>2022-12-01</td>\n      <td>2022-12-01</td>\n      <td>Older</td>\n      <td>Folder</td>\n    </tr>\n    <tr>\n      <th>1</th>\n      <td>/Users/nilsjennissen/Documents/02_PRIVAT/01_ST...</td>\n      <td>Assignment1</td>\n      <td></td>\n      <td>544</td>\n      <td>2023-05-10</td>\n      <td>2023-05-10</td>\n      <td>This week!</td>\n      <td>Folder</td>\n    </tr>\n    <tr>\n      <th>2</th>\n      <td>/Users/nilsjennissen/Documents/02_PRIVAT/01_ST...</td>\n      <td>.DS_Store</td>\n      <td></td>\n      <td>12292</td>\n      <td>2023-04-30</td>\n      <td>2023-04-30</td>\n      <td>Older</td>\n      <td>Folder</td>\n    </tr>\n    <tr>\n      <th>3</th>\n      <td>/Users/nilsjennissen/Documents/02_PRIVAT/01_ST...</td>\n      <td>Lecture2</td>\n      <td></td>\n      <td>320</td>\n      <td>2022-11-29</td>\n      <td>2022-11-29</td>\n      <td>Older</td>\n      <td>Folder</td>\n    </tr>\n    <tr>\n      <th>4</th>\n      <td>/Users/nilsjennissen/Documents/02_PRIVAT/01_ST...</td>\n      <td>Lecture5</td>\n      <td></td>\n      <td>384</td>\n      <td>2023-02-01</td>\n      <td>2023-02-01</td>\n      <td>Older</td>\n      <td>Folder</td>\n    </tr>\n  </tbody>\n</table>\n</div>"
     },
     "execution_count": 9,
     "metadata": {},
     "output_type": "execute_result"
    }
   ],
   "source": [
    "# Create column for file or folder when Fileextension is empty\n",
    "df['Fileorfolder'] = df['Fileextension'].apply(lambda x: 'Folder' if x == '' else 'File')\n",
    "df.head()"
   ],
   "metadata": {
    "collapsed": false,
    "ExecuteTime": {
     "end_time": "2023-05-12T21:07:56.829669Z",
     "start_time": "2023-05-12T21:07:56.819540Z"
    }
   }
  },
  {
   "cell_type": "code",
   "execution_count": 10,
   "outputs": [
    {
     "data": {
      "text/plain": "                                            Filepath             Filename   \n0  /Users/nilsjennissen/Documents/02_PRIVAT/01_ST...  Assignment8Bacteria  \\\n1  /Users/nilsjennissen/Documents/02_PRIVAT/01_ST...          Assignment1   \n2  /Users/nilsjennissen/Documents/02_PRIVAT/01_ST...            .DS_Store   \n3  /Users/nilsjennissen/Documents/02_PRIVAT/01_ST...             Lecture2   \n4  /Users/nilsjennissen/Documents/02_PRIVAT/01_ST...             Lecture5   \n\n  Fileextension  Filesize Filecreationdate Filemodificationdate   \n0                     288       2022-12-01           2022-12-01  \\\n1                     544       2023-05-10           2023-05-10   \n2                   12292       2023-04-30           2023-04-30   \n3                     320       2022-11-29           2022-11-29   \n4                     384       2023-02-01           2023-02-01   \n\n  Modifiedthisweek Fileorfolder      Hidden  \n0            Older       Folder  Not hidden  \n1       This week!       Folder  Not hidden  \n2            Older       Folder      Hidden  \n3            Older       Folder  Not hidden  \n4            Older       Folder  Not hidden  ",
      "text/html": "<div>\n<style scoped>\n    .dataframe tbody tr th:only-of-type {\n        vertical-align: middle;\n    }\n\n    .dataframe tbody tr th {\n        vertical-align: top;\n    }\n\n    .dataframe thead th {\n        text-align: right;\n    }\n</style>\n<table border=\"1\" class=\"dataframe\">\n  <thead>\n    <tr style=\"text-align: right;\">\n      <th></th>\n      <th>Filepath</th>\n      <th>Filename</th>\n      <th>Fileextension</th>\n      <th>Filesize</th>\n      <th>Filecreationdate</th>\n      <th>Filemodificationdate</th>\n      <th>Modifiedthisweek</th>\n      <th>Fileorfolder</th>\n      <th>Hidden</th>\n    </tr>\n  </thead>\n  <tbody>\n    <tr>\n      <th>0</th>\n      <td>/Users/nilsjennissen/Documents/02_PRIVAT/01_ST...</td>\n      <td>Assignment8Bacteria</td>\n      <td></td>\n      <td>288</td>\n      <td>2022-12-01</td>\n      <td>2022-12-01</td>\n      <td>Older</td>\n      <td>Folder</td>\n      <td>Not hidden</td>\n    </tr>\n    <tr>\n      <th>1</th>\n      <td>/Users/nilsjennissen/Documents/02_PRIVAT/01_ST...</td>\n      <td>Assignment1</td>\n      <td></td>\n      <td>544</td>\n      <td>2023-05-10</td>\n      <td>2023-05-10</td>\n      <td>This week!</td>\n      <td>Folder</td>\n      <td>Not hidden</td>\n    </tr>\n    <tr>\n      <th>2</th>\n      <td>/Users/nilsjennissen/Documents/02_PRIVAT/01_ST...</td>\n      <td>.DS_Store</td>\n      <td></td>\n      <td>12292</td>\n      <td>2023-04-30</td>\n      <td>2023-04-30</td>\n      <td>Older</td>\n      <td>Folder</td>\n      <td>Hidden</td>\n    </tr>\n    <tr>\n      <th>3</th>\n      <td>/Users/nilsjennissen/Documents/02_PRIVAT/01_ST...</td>\n      <td>Lecture2</td>\n      <td></td>\n      <td>320</td>\n      <td>2022-11-29</td>\n      <td>2022-11-29</td>\n      <td>Older</td>\n      <td>Folder</td>\n      <td>Not hidden</td>\n    </tr>\n    <tr>\n      <th>4</th>\n      <td>/Users/nilsjennissen/Documents/02_PRIVAT/01_ST...</td>\n      <td>Lecture5</td>\n      <td></td>\n      <td>384</td>\n      <td>2023-02-01</td>\n      <td>2023-02-01</td>\n      <td>Older</td>\n      <td>Folder</td>\n      <td>Not hidden</td>\n    </tr>\n  </tbody>\n</table>\n</div>"
     },
     "execution_count": 10,
     "metadata": {},
     "output_type": "execute_result"
    }
   ],
   "source": [
    "# Create column for hidden or not hidden when Filename starts with a dot\n",
    "df['Hidden'] = df['Filename'].apply(lambda x: 'Hidden' if x.startswith('.') else 'Not hidden')\n",
    "df.head()"
   ],
   "metadata": {
    "collapsed": false,
    "ExecuteTime": {
     "end_time": "2023-05-12T21:07:57.927686Z",
     "start_time": "2023-05-12T21:07:57.919652Z"
    }
   }
  },
  {
   "cell_type": "code",
   "execution_count": 11,
   "outputs": [
    {
     "data": {
      "text/plain": "                                            Filepath             Filename   \n0  /Users/nilsjennissen/Documents/02_PRIVAT/01_ST...  Assignment8Bacteria  \\\n1  /Users/nilsjennissen/Documents/02_PRIVAT/01_ST...          Assignment1   \n2  /Users/nilsjennissen/Documents/02_PRIVAT/01_ST...            .DS_Store   \n3  /Users/nilsjennissen/Documents/02_PRIVAT/01_ST...             Lecture2   \n4  /Users/nilsjennissen/Documents/02_PRIVAT/01_ST...             Lecture5   \n\n  Fileextension  Filesize Filecreationdate Filemodificationdate   \n0                     288       2022-12-01           2022-12-01  \\\n1                     544       2023-05-10           2023-05-10   \n2                   12292       2023-04-30           2023-04-30   \n3                     320       2022-11-29           2022-11-29   \n4                     384       2023-02-01           2023-02-01   \n\n  Modifiedthisweek Fileorfolder      Hidden                 Parentfolder  \n0            Older       Folder  Not hidden  04_Data_Science_Foundations  \n1       This week!       Folder  Not hidden  04_Data_Science_Foundations  \n2            Older       Folder      Hidden  04_Data_Science_Foundations  \n3            Older       Folder  Not hidden  04_Data_Science_Foundations  \n4            Older       Folder  Not hidden  04_Data_Science_Foundations  ",
      "text/html": "<div>\n<style scoped>\n    .dataframe tbody tr th:only-of-type {\n        vertical-align: middle;\n    }\n\n    .dataframe tbody tr th {\n        vertical-align: top;\n    }\n\n    .dataframe thead th {\n        text-align: right;\n    }\n</style>\n<table border=\"1\" class=\"dataframe\">\n  <thead>\n    <tr style=\"text-align: right;\">\n      <th></th>\n      <th>Filepath</th>\n      <th>Filename</th>\n      <th>Fileextension</th>\n      <th>Filesize</th>\n      <th>Filecreationdate</th>\n      <th>Filemodificationdate</th>\n      <th>Modifiedthisweek</th>\n      <th>Fileorfolder</th>\n      <th>Hidden</th>\n      <th>Parentfolder</th>\n    </tr>\n  </thead>\n  <tbody>\n    <tr>\n      <th>0</th>\n      <td>/Users/nilsjennissen/Documents/02_PRIVAT/01_ST...</td>\n      <td>Assignment8Bacteria</td>\n      <td></td>\n      <td>288</td>\n      <td>2022-12-01</td>\n      <td>2022-12-01</td>\n      <td>Older</td>\n      <td>Folder</td>\n      <td>Not hidden</td>\n      <td>04_Data_Science_Foundations</td>\n    </tr>\n    <tr>\n      <th>1</th>\n      <td>/Users/nilsjennissen/Documents/02_PRIVAT/01_ST...</td>\n      <td>Assignment1</td>\n      <td></td>\n      <td>544</td>\n      <td>2023-05-10</td>\n      <td>2023-05-10</td>\n      <td>This week!</td>\n      <td>Folder</td>\n      <td>Not hidden</td>\n      <td>04_Data_Science_Foundations</td>\n    </tr>\n    <tr>\n      <th>2</th>\n      <td>/Users/nilsjennissen/Documents/02_PRIVAT/01_ST...</td>\n      <td>.DS_Store</td>\n      <td></td>\n      <td>12292</td>\n      <td>2023-04-30</td>\n      <td>2023-04-30</td>\n      <td>Older</td>\n      <td>Folder</td>\n      <td>Hidden</td>\n      <td>04_Data_Science_Foundations</td>\n    </tr>\n    <tr>\n      <th>3</th>\n      <td>/Users/nilsjennissen/Documents/02_PRIVAT/01_ST...</td>\n      <td>Lecture2</td>\n      <td></td>\n      <td>320</td>\n      <td>2022-11-29</td>\n      <td>2022-11-29</td>\n      <td>Older</td>\n      <td>Folder</td>\n      <td>Not hidden</td>\n      <td>04_Data_Science_Foundations</td>\n    </tr>\n    <tr>\n      <th>4</th>\n      <td>/Users/nilsjennissen/Documents/02_PRIVAT/01_ST...</td>\n      <td>Lecture5</td>\n      <td></td>\n      <td>384</td>\n      <td>2023-02-01</td>\n      <td>2023-02-01</td>\n      <td>Older</td>\n      <td>Folder</td>\n      <td>Not hidden</td>\n      <td>04_Data_Science_Foundations</td>\n    </tr>\n  </tbody>\n</table>\n</div>"
     },
     "execution_count": 11,
     "metadata": {},
     "output_type": "execute_result"
    }
   ],
   "source": [
    "# Get the parent folder name cut from the filepath\n",
    "df['Parentfolder'] = df['Filepath'].apply(lambda x: x.parent.name)\n",
    "df.head()"
   ],
   "metadata": {
    "collapsed": false,
    "ExecuteTime": {
     "end_time": "2023-05-12T21:08:05.100177Z",
     "start_time": "2023-05-12T21:08:05.060926Z"
    }
   }
  },
  {
   "cell_type": "code",
   "execution_count": 5,
   "outputs": [],
   "source": [
    "# Combining all of this in a function\n",
    "def get_csv(path):\n",
    "    df = pd.DataFrame(path.rglob('*'))\n",
    "    df = df.rename(columns={0: 'Filepath'})\n",
    "    df['Filename'] = df['Filepath'].apply(lambda x: x.name)\n",
    "    df['Fileextension'] = df['Filepath'].apply(lambda x: x.suffix)\n",
    "    df['Filesize'] = df['Filepath'].apply(lambda x: x.stat().st_size)\n",
    "    df['Filecreationdate'] = df['Filepath'].apply(lambda x: x.stat().st_ctime)\n",
    "    df['Filemodificationdate'] = df['Filepath'].apply(lambda x: x.stat().st_mtime)\n",
    "    df['Filecreationdate'] = pd.to_datetime(df['Filecreationdate'], unit='s')\n",
    "    df['Filemodificationdate'] = pd.to_datetime(df['Filemodificationdate'], unit='s')\n",
    "    df['Modifiedthisweek'] = df['Filemodificationdate'].apply(lambda x: 'This week!' if x > pd.Timestamp.now() - pd.Timedelta(days=7) else 'Older')\n",
    "    df['Filecreationdate'] = df['Filecreationdate'].dt.date\n",
    "    df['Filemodificationdate'] = df['Filemodificationdate'].dt.date\n",
    "    df['Fileorfolder'] = df['Fileextension'].apply(lambda x: 'Folder' if x == '' else 'File')\n",
    "    df['Hidden'] = df['Filename'].apply(lambda x: 'Hidden' if x.startswith('.') else 'Not hidden')\n",
    "    df['Parentfolder'] = df['Filepath'].apply(lambda x: x.parent.name)\n",
    "    return df\n"
   ],
   "metadata": {
    "collapsed": false,
    "ExecuteTime": {
     "end_time": "2023-05-14T15:13:03.012257Z",
     "start_time": "2023-05-14T15:13:03.009185Z"
    }
   }
  },
  {
   "cell_type": "code",
   "execution_count": 6,
   "outputs": [
    {
     "data": {
      "text/plain": "                                            Filepath             Filename   \n0  /Users/nilsjennissen/Documents/02_PRIVAT/01_ST...  Assignment8Bacteria  \\\n1  /Users/nilsjennissen/Documents/02_PRIVAT/01_ST...          Assignment1   \n2  /Users/nilsjennissen/Documents/02_PRIVAT/01_ST...            .DS_Store   \n3  /Users/nilsjennissen/Documents/02_PRIVAT/01_ST...             Lecture2   \n4  /Users/nilsjennissen/Documents/02_PRIVAT/01_ST...             Lecture5   \n\n  Fileextension  Filesize Filecreationdate Filemodificationdate   \n0                     288       2022-12-01           2022-12-01  \\\n1                     544       2023-05-10           2023-05-10   \n2                   12292       2023-04-30           2023-04-30   \n3                     320       2022-11-29           2022-11-29   \n4                     384       2023-02-01           2023-02-01   \n\n  Modifiedthisweek Fileorfolder      Hidden                 Parentfolder  \n0            Older       Folder  Not hidden  04_Data_Science_Foundations  \n1       This week!       Folder  Not hidden  04_Data_Science_Foundations  \n2            Older       Folder      Hidden  04_Data_Science_Foundations  \n3            Older       Folder  Not hidden  04_Data_Science_Foundations  \n4            Older       Folder  Not hidden  04_Data_Science_Foundations  ",
      "text/html": "<div>\n<style scoped>\n    .dataframe tbody tr th:only-of-type {\n        vertical-align: middle;\n    }\n\n    .dataframe tbody tr th {\n        vertical-align: top;\n    }\n\n    .dataframe thead th {\n        text-align: right;\n    }\n</style>\n<table border=\"1\" class=\"dataframe\">\n  <thead>\n    <tr style=\"text-align: right;\">\n      <th></th>\n      <th>Filepath</th>\n      <th>Filename</th>\n      <th>Fileextension</th>\n      <th>Filesize</th>\n      <th>Filecreationdate</th>\n      <th>Filemodificationdate</th>\n      <th>Modifiedthisweek</th>\n      <th>Fileorfolder</th>\n      <th>Hidden</th>\n      <th>Parentfolder</th>\n    </tr>\n  </thead>\n  <tbody>\n    <tr>\n      <th>0</th>\n      <td>/Users/nilsjennissen/Documents/02_PRIVAT/01_ST...</td>\n      <td>Assignment8Bacteria</td>\n      <td></td>\n      <td>288</td>\n      <td>2022-12-01</td>\n      <td>2022-12-01</td>\n      <td>Older</td>\n      <td>Folder</td>\n      <td>Not hidden</td>\n      <td>04_Data_Science_Foundations</td>\n    </tr>\n    <tr>\n      <th>1</th>\n      <td>/Users/nilsjennissen/Documents/02_PRIVAT/01_ST...</td>\n      <td>Assignment1</td>\n      <td></td>\n      <td>544</td>\n      <td>2023-05-10</td>\n      <td>2023-05-10</td>\n      <td>This week!</td>\n      <td>Folder</td>\n      <td>Not hidden</td>\n      <td>04_Data_Science_Foundations</td>\n    </tr>\n    <tr>\n      <th>2</th>\n      <td>/Users/nilsjennissen/Documents/02_PRIVAT/01_ST...</td>\n      <td>.DS_Store</td>\n      <td></td>\n      <td>12292</td>\n      <td>2023-04-30</td>\n      <td>2023-04-30</td>\n      <td>Older</td>\n      <td>Folder</td>\n      <td>Hidden</td>\n      <td>04_Data_Science_Foundations</td>\n    </tr>\n    <tr>\n      <th>3</th>\n      <td>/Users/nilsjennissen/Documents/02_PRIVAT/01_ST...</td>\n      <td>Lecture2</td>\n      <td></td>\n      <td>320</td>\n      <td>2022-11-29</td>\n      <td>2022-11-29</td>\n      <td>Older</td>\n      <td>Folder</td>\n      <td>Not hidden</td>\n      <td>04_Data_Science_Foundations</td>\n    </tr>\n    <tr>\n      <th>4</th>\n      <td>/Users/nilsjennissen/Documents/02_PRIVAT/01_ST...</td>\n      <td>Lecture5</td>\n      <td></td>\n      <td>384</td>\n      <td>2023-02-01</td>\n      <td>2023-02-01</td>\n      <td>Older</td>\n      <td>Folder</td>\n      <td>Not hidden</td>\n      <td>04_Data_Science_Foundations</td>\n    </tr>\n  </tbody>\n</table>\n</div>"
     },
     "execution_count": 6,
     "metadata": {},
     "output_type": "execute_result"
    }
   ],
   "source": [
    "# Test the function\n",
    "path = pathlib.Path('/Users/nilsjennissen/Documents/02_PRIVAT/01_STUDIUM/01_BTS/04_Data_Science_Foundations')\n",
    "df = get_csv(path)\n",
    "df.head()"
   ],
   "metadata": {
    "collapsed": false,
    "ExecuteTime": {
     "end_time": "2023-05-14T15:13:07.362708Z",
     "start_time": "2023-05-14T15:13:04.379613Z"
    }
   }
  },
  {
   "cell_type": "code",
   "execution_count": 8,
   "outputs": [],
   "source": [],
   "metadata": {
    "collapsed": false,
    "ExecuteTime": {
     "end_time": "2023-05-14T15:13:20.956172Z",
     "start_time": "2023-05-14T15:13:20.711091Z"
    }
   }
  }
 ],
 "metadata": {
  "kernelspec": {
   "display_name": "Python 3",
   "language": "python",
   "name": "python3"
  },
  "language_info": {
   "codemirror_mode": {
    "name": "ipython",
    "version": 2
   },
   "file_extension": ".py",
   "mimetype": "text/x-python",
   "name": "python",
   "nbconvert_exporter": "python",
   "pygments_lexer": "ipython2",
   "version": "2.7.6"
  }
 },
 "nbformat": 4,
 "nbformat_minor": 0
}
