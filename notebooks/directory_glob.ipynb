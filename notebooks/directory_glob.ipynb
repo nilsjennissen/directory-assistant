{
 "cells": [
  {
   "cell_type": "code",
   "execution_count": 1,
   "outputs": [],
   "source": [
    "import pandas as pd\n",
    "import pathlib\n",
    "import glob"
   ],
   "metadata": {
    "collapsed": false,
    "ExecuteTime": {
     "end_time": "2023-05-15T19:00:48.556500Z",
     "start_time": "2023-05-15T19:00:43.182698Z"
    }
   }
  },
  {
   "cell_type": "code",
   "execution_count": 2,
   "metadata": {
    "collapsed": true,
    "ExecuteTime": {
     "end_time": "2023-05-15T19:00:51.113039Z",
     "start_time": "2023-05-15T19:00:48.558420Z"
    }
   },
   "outputs": [],
   "source": [
    "path = pathlib.Path('/Users/nilsjennissen/Documents/02_PRIVAT/01_STUDIUM/01_BTS/04_Data_Science_Foundations')\n",
    "df = pd.DataFrame(path.rglob('*'))\n",
    "df = df.rename(columns={0: 'Filepath'})\n",
    "\n",
    "# Create a column with the filename\n",
    "df['Filename'] = df['Filepath'].apply(lambda x: x.name)\n",
    "# Create a column with the file extension\n",
    "df['Fileextension'] = df['Filepath'].apply(lambda x: x.suffix)\n",
    "# Create a column with the file size\n",
    "df['Filesize'] = df['Filepath'].apply(lambda x: x.stat().st_size)\n",
    "# Create a column with the file creation date\n",
    "df['Filecreationdate'] = df['Filepath'].apply(lambda x: x.stat().st_ctime)\n",
    "# Create a column with the file modification date\n",
    "df['Filemodificationdate'] = df['Filepath'].apply(lambda x: x.stat().st_mtime)\n",
    "\n",
    "# - Data Transformation -\n",
    "# Transform date to datetime\n",
    "df['Filecreationdate'] = pd.to_datetime(df['Filecreationdate'], unit='s')\n",
    "df['Filemodificationdate'] = pd.to_datetime(df['Filemodificationdate'], unit='s')"
   ]
  },
  {
   "cell_type": "code",
   "execution_count": 4,
   "outputs": [
    {
     "data": {
      "text/plain": "                                             Filepath   \n0   /Users/nilsjennissen/Documents/02_PRIVAT/01_ST...  \\\n1   /Users/nilsjennissen/Documents/02_PRIVAT/01_ST...   \n2   /Users/nilsjennissen/Documents/02_PRIVAT/01_ST...   \n3   /Users/nilsjennissen/Documents/02_PRIVAT/01_ST...   \n4   /Users/nilsjennissen/Documents/02_PRIVAT/01_ST...   \n5   /Users/nilsjennissen/Documents/02_PRIVAT/01_ST...   \n6   /Users/nilsjennissen/Documents/02_PRIVAT/01_ST...   \n7   /Users/nilsjennissen/Documents/02_PRIVAT/01_ST...   \n8   /Users/nilsjennissen/Documents/02_PRIVAT/01_ST...   \n9   /Users/nilsjennissen/Documents/02_PRIVAT/01_ST...   \n10  /Users/nilsjennissen/Documents/02_PRIVAT/01_ST...   \n11  /Users/nilsjennissen/Documents/02_PRIVAT/01_ST...   \n12  /Users/nilsjennissen/Documents/02_PRIVAT/01_ST...   \n13  /Users/nilsjennissen/Documents/02_PRIVAT/01_ST...   \n14  /Users/nilsjennissen/Documents/02_PRIVAT/01_ST...   \n15  /Users/nilsjennissen/Documents/02_PRIVAT/01_ST...   \n16  /Users/nilsjennissen/Documents/02_PRIVAT/01_ST...   \n17  /Users/nilsjennissen/Documents/02_PRIVAT/01_ST...   \n18  /Users/nilsjennissen/Documents/02_PRIVAT/01_ST...   \n19  /Users/nilsjennissen/Documents/02_PRIVAT/01_ST...   \n20  /Users/nilsjennissen/Documents/02_PRIVAT/01_ST...   \n21  /Users/nilsjennissen/Documents/02_PRIVAT/01_ST...   \n22  /Users/nilsjennissen/Documents/02_PRIVAT/01_ST...   \n23  /Users/nilsjennissen/Documents/02_PRIVAT/01_ST...   \n24  /Users/nilsjennissen/Documents/02_PRIVAT/01_ST...   \n25  /Users/nilsjennissen/Documents/02_PRIVAT/01_ST...   \n26  /Users/nilsjennissen/Documents/02_PRIVAT/01_ST...   \n27  /Users/nilsjennissen/Documents/02_PRIVAT/01_ST...   \n28  /Users/nilsjennissen/Documents/02_PRIVAT/01_ST...   \n29  /Users/nilsjennissen/Documents/02_PRIVAT/01_ST...   \n30  /Users/nilsjennissen/Documents/02_PRIVAT/01_ST...   \n31  /Users/nilsjennissen/Documents/02_PRIVAT/01_ST...   \n32  /Users/nilsjennissen/Documents/02_PRIVAT/01_ST...   \n33  /Users/nilsjennissen/Documents/02_PRIVAT/01_ST...   \n34  /Users/nilsjennissen/Documents/02_PRIVAT/01_ST...   \n35  /Users/nilsjennissen/Documents/02_PRIVAT/01_ST...   \n36  /Users/nilsjennissen/Documents/02_PRIVAT/01_ST...   \n37  /Users/nilsjennissen/Documents/02_PRIVAT/01_ST...   \n38  /Users/nilsjennissen/Documents/02_PRIVAT/01_ST...   \n39  /Users/nilsjennissen/Documents/02_PRIVAT/01_ST...   \n40  /Users/nilsjennissen/Documents/02_PRIVAT/01_ST...   \n41  /Users/nilsjennissen/Documents/02_PRIVAT/01_ST...   \n42  /Users/nilsjennissen/Documents/02_PRIVAT/01_ST...   \n43  /Users/nilsjennissen/Documents/02_PRIVAT/01_ST...   \n44  /Users/nilsjennissen/Documents/02_PRIVAT/01_ST...   \n45  /Users/nilsjennissen/Documents/02_PRIVAT/01_ST...   \n46  /Users/nilsjennissen/Documents/02_PRIVAT/01_ST...   \n47  /Users/nilsjennissen/Documents/02_PRIVAT/01_ST...   \n48  /Users/nilsjennissen/Documents/02_PRIVAT/01_ST...   \n49  /Users/nilsjennissen/Documents/02_PRIVAT/01_ST...   \n\n                             Filename Fileextension  Filesize   \n0                 Assignment8Bacteria                     288  \\\n1                         Assignment1                     544   \n2                           .DS_Store                   12292   \n3                            Lecture2                     320   \n4                            Lecture5                     384   \n5                           Lecture11                     160   \n6                           Lecture10                     192   \n7                            Lecture4                     192   \n8                            Lecture3                     320   \n9                     Assignment10Opt                     224   \n10                       FinalProject                     416   \n11               AssignmentMessageApp                     672   \n12                     Assignment9Opt                     192   \n13          Text_Analysis_Claas.ipynb        .ipynb      1218   \n14                         flights.db           .db         0   \n15                        Assignment5                     192   \n16                        Assignment2                     224   \n17                        Assignment3                     512   \n18                        Assignment4                     384   \n19                   Assignment7Recap                     544   \n20                           Lecture6                     128   \n21                           Lecture1                     256   \n22                          Lecture12                     160   \n23                           Lecture8                     256   \n24                   Assignment6Group                     448   \n25                          Lecture15                     128   \n26                          Lecture14                      96   \n27                           Lecture9                     224   \n28                          Lecture13                     128   \n29                           Lecture7                     192   \n30               Assignment11Scraping                     608   \n31                              .idea                     384   \n32                          .DS_Store                    6148   \n33                    Documents.ipynb        .ipynb      3350   \n34             2016-04-03-muir_dryrun                    2048   \n35         2016-04-03-muir_dryrun.zip          .zip  60029599   \n36                 .ipynb_checkpoints                     128   \n37                 Assignment 4.ipynb        .ipynb   3239331   \n38  Nils_Jennissen_Assignment 4.ipynb        .ipynb   2692194   \n39        img_000000004_TRITC_000.tif          .tif   2752676   \n40        img_000000013_TRITC_000.tif          .tif   2752676   \n41  img_000000029_Brightfield_000.tif          .tif   2752676   \n42        img_000000017_TRITC_000.tif          .tif   2752676   \n43        img_000000000_TRITC_000.tif          .tif   2757418   \n44  img_000000028_Brightfield_000.tif          .tif   2752676   \n45        img_000000010_TRITC_000.tif          .tif   2752676   \n46        img_000000007_TRITC_000.tif          .tif   2752676   \n47        img_000000029_TRITC_000.tif          .tif   2752676   \n48                       metadata.txt          .txt    278931   \n49        img_000000003_TRITC_000.tif          .tif   2752676   \n\n                Filecreationdate          Filemodificationdate  \n0  2022-12-01 17:19:26.951033344 2022-12-01 17:16:31.000000000  \n1  2023-05-10 23:11:12.736709120 2023-05-10 23:11:08.000000000  \n2  2023-04-30 01:51:21.110024704 2023-04-30 01:51:21.110024704  \n3  2022-11-29 13:31:40.031290368 2022-11-29 13:31:39.000000000  \n4  2023-02-01 14:51:31.832541184 2023-02-01 14:51:26.000000000  \n5  2023-01-15 19:27:22.858299136 2023-01-15 19:27:22.000000000  \n6  2023-02-21 07:47:57.868884736 2023-02-20 15:35:54.000000000  \n7  2022-11-29 13:36:07.779367680 2022-11-29 13:36:07.000000000  \n8  2022-11-29 13:35:50.123872256 2022-11-29 13:35:49.000000000  \n9  2023-01-13 08:42:20.412204800 2023-01-13 08:42:18.000000000  \n10 2023-04-05 23:41:38.395538688 2023-03-31 17:53:31.000000000  \n11 2023-03-02 10:59:04.557943296 2023-03-02 10:58:52.000000000  \n12 2023-01-09 00:53:27.807361024 2023-01-09 00:53:26.000000000  \n13 2023-01-13 08:20:27.543227136 2022-12-12 11:00:19.514723328  \n14 2023-01-05 02:13:18.524100096 2023-01-05 02:13:18.410067200  \n15 2022-11-29 13:41:31.139022592 2022-11-29 13:41:29.000000000  \n16 2022-11-29 13:44:07.703539200 2022-11-29 13:44:06.000000000  \n17 2022-11-29 13:44:02.357979904 2022-11-29 13:44:00.000000000  \n18 2022-11-29 13:41:35.976329984 2022-11-29 13:41:33.000000000  \n19 2023-05-10 23:21:46.492940544 2023-05-10 23:21:45.000000000  \n20 2023-05-10 23:10:45.081164032 2023-05-03 07:41:56.000000000  \n21 2022-11-29 13:39:19.352490752 2022-11-29 13:39:14.000000000  \n22 2023-02-18 15:40:23.091848960 2023-02-18 15:40:17.000000000  \n23 2022-11-29 13:37:48.371890944 2022-11-29 13:36:49.000000000  \n24 2023-05-10 23:18:10.580931328 2023-05-10 23:18:09.000000000  \n25 2023-04-09 22:48:16.353254912 2023-04-09 22:48:15.000000000  \n26 2023-04-09 22:48:25.796458752 2023-04-09 22:48:25.000000000  \n27 2023-02-06 13:35:14.355530240 2023-02-06 13:35:13.000000000  \n28 2023-04-09 22:51:51.131940864 2023-04-09 22:51:49.000000000  \n29 2022-11-29 13:38:12.901118720 2022-11-29 13:38:12.000000000  \n30 2023-03-02 10:58:11.011660800 2023-03-02 10:58:08.000000000  \n31 2023-05-10 23:10:45.121565440 2023-05-03 07:30:18.000000000  \n32 2022-12-06 11:50:13.628696320 2022-12-06 11:50:13.628696320  \n33 2022-11-30 15:15:24.263748352 2022-11-30 15:15:24.263748352  \n34 2022-11-29 21:10:16.679622144 2022-11-29 21:09:19.000000000  \n35 2022-11-29 21:08:23.985067264 2022-11-29 13:45:52.996353024  \n36 2022-12-01 11:28:30.221012224 2022-12-01 11:28:29.000000000  \n37 2022-12-01 11:38:17.013347328 2022-12-01 11:38:17.013347328  \n38 2022-12-01 17:26:39.064670464 2022-12-01 17:19:26.732397056  \n39 2022-11-29 21:08:24.547343616 2016-04-04 00:09:56.000000000  \n40 2022-11-29 21:08:24.562364672 2016-04-04 01:03:54.000000000  \n41 2022-11-29 21:08:24.575056128 2016-04-04 02:39:56.000000000  \n42 2022-11-29 21:08:24.585651968 2016-04-04 01:27:54.000000000  \n43 2022-11-29 21:08:24.589620992 2016-04-04 23:57:42.000000000  \n44 2022-11-29 21:08:24.593812224 2016-04-04 02:33:56.000000000  \n45 2022-11-29 21:08:24.598711808 2016-04-04 00:45:56.000000000  \n46 2022-11-29 21:08:24.607737088 2016-04-04 00:27:56.000000000  \n47 2022-11-29 21:08:24.618207744 2016-04-04 02:39:54.000000000  \n48 2022-11-29 21:08:24.625187072 2016-04-04 02:41:36.000000000  \n49 2022-11-29 21:08:24.644417024 2016-04-04 00:03:54.000000000  ",
      "text/html": "<div>\n<style scoped>\n    .dataframe tbody tr th:only-of-type {\n        vertical-align: middle;\n    }\n\n    .dataframe tbody tr th {\n        vertical-align: top;\n    }\n\n    .dataframe thead th {\n        text-align: right;\n    }\n</style>\n<table border=\"1\" class=\"dataframe\">\n  <thead>\n    <tr style=\"text-align: right;\">\n      <th></th>\n      <th>Filepath</th>\n      <th>Filename</th>\n      <th>Fileextension</th>\n      <th>Filesize</th>\n      <th>Filecreationdate</th>\n      <th>Filemodificationdate</th>\n    </tr>\n  </thead>\n  <tbody>\n    <tr>\n      <th>0</th>\n      <td>/Users/nilsjennissen/Documents/02_PRIVAT/01_ST...</td>\n      <td>Assignment8Bacteria</td>\n      <td></td>\n      <td>288</td>\n      <td>2022-12-01 17:19:26.951033344</td>\n      <td>2022-12-01 17:16:31.000000000</td>\n    </tr>\n    <tr>\n      <th>1</th>\n      <td>/Users/nilsjennissen/Documents/02_PRIVAT/01_ST...</td>\n      <td>Assignment1</td>\n      <td></td>\n      <td>544</td>\n      <td>2023-05-10 23:11:12.736709120</td>\n      <td>2023-05-10 23:11:08.000000000</td>\n    </tr>\n    <tr>\n      <th>2</th>\n      <td>/Users/nilsjennissen/Documents/02_PRIVAT/01_ST...</td>\n      <td>.DS_Store</td>\n      <td></td>\n      <td>12292</td>\n      <td>2023-04-30 01:51:21.110024704</td>\n      <td>2023-04-30 01:51:21.110024704</td>\n    </tr>\n    <tr>\n      <th>3</th>\n      <td>/Users/nilsjennissen/Documents/02_PRIVAT/01_ST...</td>\n      <td>Lecture2</td>\n      <td></td>\n      <td>320</td>\n      <td>2022-11-29 13:31:40.031290368</td>\n      <td>2022-11-29 13:31:39.000000000</td>\n    </tr>\n    <tr>\n      <th>4</th>\n      <td>/Users/nilsjennissen/Documents/02_PRIVAT/01_ST...</td>\n      <td>Lecture5</td>\n      <td></td>\n      <td>384</td>\n      <td>2023-02-01 14:51:31.832541184</td>\n      <td>2023-02-01 14:51:26.000000000</td>\n    </tr>\n    <tr>\n      <th>5</th>\n      <td>/Users/nilsjennissen/Documents/02_PRIVAT/01_ST...</td>\n      <td>Lecture11</td>\n      <td></td>\n      <td>160</td>\n      <td>2023-01-15 19:27:22.858299136</td>\n      <td>2023-01-15 19:27:22.000000000</td>\n    </tr>\n    <tr>\n      <th>6</th>\n      <td>/Users/nilsjennissen/Documents/02_PRIVAT/01_ST...</td>\n      <td>Lecture10</td>\n      <td></td>\n      <td>192</td>\n      <td>2023-02-21 07:47:57.868884736</td>\n      <td>2023-02-20 15:35:54.000000000</td>\n    </tr>\n    <tr>\n      <th>7</th>\n      <td>/Users/nilsjennissen/Documents/02_PRIVAT/01_ST...</td>\n      <td>Lecture4</td>\n      <td></td>\n      <td>192</td>\n      <td>2022-11-29 13:36:07.779367680</td>\n      <td>2022-11-29 13:36:07.000000000</td>\n    </tr>\n    <tr>\n      <th>8</th>\n      <td>/Users/nilsjennissen/Documents/02_PRIVAT/01_ST...</td>\n      <td>Lecture3</td>\n      <td></td>\n      <td>320</td>\n      <td>2022-11-29 13:35:50.123872256</td>\n      <td>2022-11-29 13:35:49.000000000</td>\n    </tr>\n    <tr>\n      <th>9</th>\n      <td>/Users/nilsjennissen/Documents/02_PRIVAT/01_ST...</td>\n      <td>Assignment10Opt</td>\n      <td></td>\n      <td>224</td>\n      <td>2023-01-13 08:42:20.412204800</td>\n      <td>2023-01-13 08:42:18.000000000</td>\n    </tr>\n    <tr>\n      <th>10</th>\n      <td>/Users/nilsjennissen/Documents/02_PRIVAT/01_ST...</td>\n      <td>FinalProject</td>\n      <td></td>\n      <td>416</td>\n      <td>2023-04-05 23:41:38.395538688</td>\n      <td>2023-03-31 17:53:31.000000000</td>\n    </tr>\n    <tr>\n      <th>11</th>\n      <td>/Users/nilsjennissen/Documents/02_PRIVAT/01_ST...</td>\n      <td>AssignmentMessageApp</td>\n      <td></td>\n      <td>672</td>\n      <td>2023-03-02 10:59:04.557943296</td>\n      <td>2023-03-02 10:58:52.000000000</td>\n    </tr>\n    <tr>\n      <th>12</th>\n      <td>/Users/nilsjennissen/Documents/02_PRIVAT/01_ST...</td>\n      <td>Assignment9Opt</td>\n      <td></td>\n      <td>192</td>\n      <td>2023-01-09 00:53:27.807361024</td>\n      <td>2023-01-09 00:53:26.000000000</td>\n    </tr>\n    <tr>\n      <th>13</th>\n      <td>/Users/nilsjennissen/Documents/02_PRIVAT/01_ST...</td>\n      <td>Text_Analysis_Claas.ipynb</td>\n      <td>.ipynb</td>\n      <td>1218</td>\n      <td>2023-01-13 08:20:27.543227136</td>\n      <td>2022-12-12 11:00:19.514723328</td>\n    </tr>\n    <tr>\n      <th>14</th>\n      <td>/Users/nilsjennissen/Documents/02_PRIVAT/01_ST...</td>\n      <td>flights.db</td>\n      <td>.db</td>\n      <td>0</td>\n      <td>2023-01-05 02:13:18.524100096</td>\n      <td>2023-01-05 02:13:18.410067200</td>\n    </tr>\n    <tr>\n      <th>15</th>\n      <td>/Users/nilsjennissen/Documents/02_PRIVAT/01_ST...</td>\n      <td>Assignment5</td>\n      <td></td>\n      <td>192</td>\n      <td>2022-11-29 13:41:31.139022592</td>\n      <td>2022-11-29 13:41:29.000000000</td>\n    </tr>\n    <tr>\n      <th>16</th>\n      <td>/Users/nilsjennissen/Documents/02_PRIVAT/01_ST...</td>\n      <td>Assignment2</td>\n      <td></td>\n      <td>224</td>\n      <td>2022-11-29 13:44:07.703539200</td>\n      <td>2022-11-29 13:44:06.000000000</td>\n    </tr>\n    <tr>\n      <th>17</th>\n      <td>/Users/nilsjennissen/Documents/02_PRIVAT/01_ST...</td>\n      <td>Assignment3</td>\n      <td></td>\n      <td>512</td>\n      <td>2022-11-29 13:44:02.357979904</td>\n      <td>2022-11-29 13:44:00.000000000</td>\n    </tr>\n    <tr>\n      <th>18</th>\n      <td>/Users/nilsjennissen/Documents/02_PRIVAT/01_ST...</td>\n      <td>Assignment4</td>\n      <td></td>\n      <td>384</td>\n      <td>2022-11-29 13:41:35.976329984</td>\n      <td>2022-11-29 13:41:33.000000000</td>\n    </tr>\n    <tr>\n      <th>19</th>\n      <td>/Users/nilsjennissen/Documents/02_PRIVAT/01_ST...</td>\n      <td>Assignment7Recap</td>\n      <td></td>\n      <td>544</td>\n      <td>2023-05-10 23:21:46.492940544</td>\n      <td>2023-05-10 23:21:45.000000000</td>\n    </tr>\n    <tr>\n      <th>20</th>\n      <td>/Users/nilsjennissen/Documents/02_PRIVAT/01_ST...</td>\n      <td>Lecture6</td>\n      <td></td>\n      <td>128</td>\n      <td>2023-05-10 23:10:45.081164032</td>\n      <td>2023-05-03 07:41:56.000000000</td>\n    </tr>\n    <tr>\n      <th>21</th>\n      <td>/Users/nilsjennissen/Documents/02_PRIVAT/01_ST...</td>\n      <td>Lecture1</td>\n      <td></td>\n      <td>256</td>\n      <td>2022-11-29 13:39:19.352490752</td>\n      <td>2022-11-29 13:39:14.000000000</td>\n    </tr>\n    <tr>\n      <th>22</th>\n      <td>/Users/nilsjennissen/Documents/02_PRIVAT/01_ST...</td>\n      <td>Lecture12</td>\n      <td></td>\n      <td>160</td>\n      <td>2023-02-18 15:40:23.091848960</td>\n      <td>2023-02-18 15:40:17.000000000</td>\n    </tr>\n    <tr>\n      <th>23</th>\n      <td>/Users/nilsjennissen/Documents/02_PRIVAT/01_ST...</td>\n      <td>Lecture8</td>\n      <td></td>\n      <td>256</td>\n      <td>2022-11-29 13:37:48.371890944</td>\n      <td>2022-11-29 13:36:49.000000000</td>\n    </tr>\n    <tr>\n      <th>24</th>\n      <td>/Users/nilsjennissen/Documents/02_PRIVAT/01_ST...</td>\n      <td>Assignment6Group</td>\n      <td></td>\n      <td>448</td>\n      <td>2023-05-10 23:18:10.580931328</td>\n      <td>2023-05-10 23:18:09.000000000</td>\n    </tr>\n    <tr>\n      <th>25</th>\n      <td>/Users/nilsjennissen/Documents/02_PRIVAT/01_ST...</td>\n      <td>Lecture15</td>\n      <td></td>\n      <td>128</td>\n      <td>2023-04-09 22:48:16.353254912</td>\n      <td>2023-04-09 22:48:15.000000000</td>\n    </tr>\n    <tr>\n      <th>26</th>\n      <td>/Users/nilsjennissen/Documents/02_PRIVAT/01_ST...</td>\n      <td>Lecture14</td>\n      <td></td>\n      <td>96</td>\n      <td>2023-04-09 22:48:25.796458752</td>\n      <td>2023-04-09 22:48:25.000000000</td>\n    </tr>\n    <tr>\n      <th>27</th>\n      <td>/Users/nilsjennissen/Documents/02_PRIVAT/01_ST...</td>\n      <td>Lecture9</td>\n      <td></td>\n      <td>224</td>\n      <td>2023-02-06 13:35:14.355530240</td>\n      <td>2023-02-06 13:35:13.000000000</td>\n    </tr>\n    <tr>\n      <th>28</th>\n      <td>/Users/nilsjennissen/Documents/02_PRIVAT/01_ST...</td>\n      <td>Lecture13</td>\n      <td></td>\n      <td>128</td>\n      <td>2023-04-09 22:51:51.131940864</td>\n      <td>2023-04-09 22:51:49.000000000</td>\n    </tr>\n    <tr>\n      <th>29</th>\n      <td>/Users/nilsjennissen/Documents/02_PRIVAT/01_ST...</td>\n      <td>Lecture7</td>\n      <td></td>\n      <td>192</td>\n      <td>2022-11-29 13:38:12.901118720</td>\n      <td>2022-11-29 13:38:12.000000000</td>\n    </tr>\n    <tr>\n      <th>30</th>\n      <td>/Users/nilsjennissen/Documents/02_PRIVAT/01_ST...</td>\n      <td>Assignment11Scraping</td>\n      <td></td>\n      <td>608</td>\n      <td>2023-03-02 10:58:11.011660800</td>\n      <td>2023-03-02 10:58:08.000000000</td>\n    </tr>\n    <tr>\n      <th>31</th>\n      <td>/Users/nilsjennissen/Documents/02_PRIVAT/01_ST...</td>\n      <td>.idea</td>\n      <td></td>\n      <td>384</td>\n      <td>2023-05-10 23:10:45.121565440</td>\n      <td>2023-05-03 07:30:18.000000000</td>\n    </tr>\n    <tr>\n      <th>32</th>\n      <td>/Users/nilsjennissen/Documents/02_PRIVAT/01_ST...</td>\n      <td>.DS_Store</td>\n      <td></td>\n      <td>6148</td>\n      <td>2022-12-06 11:50:13.628696320</td>\n      <td>2022-12-06 11:50:13.628696320</td>\n    </tr>\n    <tr>\n      <th>33</th>\n      <td>/Users/nilsjennissen/Documents/02_PRIVAT/01_ST...</td>\n      <td>Documents.ipynb</td>\n      <td>.ipynb</td>\n      <td>3350</td>\n      <td>2022-11-30 15:15:24.263748352</td>\n      <td>2022-11-30 15:15:24.263748352</td>\n    </tr>\n    <tr>\n      <th>34</th>\n      <td>/Users/nilsjennissen/Documents/02_PRIVAT/01_ST...</td>\n      <td>2016-04-03-muir_dryrun</td>\n      <td></td>\n      <td>2048</td>\n      <td>2022-11-29 21:10:16.679622144</td>\n      <td>2022-11-29 21:09:19.000000000</td>\n    </tr>\n    <tr>\n      <th>35</th>\n      <td>/Users/nilsjennissen/Documents/02_PRIVAT/01_ST...</td>\n      <td>2016-04-03-muir_dryrun.zip</td>\n      <td>.zip</td>\n      <td>60029599</td>\n      <td>2022-11-29 21:08:23.985067264</td>\n      <td>2022-11-29 13:45:52.996353024</td>\n    </tr>\n    <tr>\n      <th>36</th>\n      <td>/Users/nilsjennissen/Documents/02_PRIVAT/01_ST...</td>\n      <td>.ipynb_checkpoints</td>\n      <td></td>\n      <td>128</td>\n      <td>2022-12-01 11:28:30.221012224</td>\n      <td>2022-12-01 11:28:29.000000000</td>\n    </tr>\n    <tr>\n      <th>37</th>\n      <td>/Users/nilsjennissen/Documents/02_PRIVAT/01_ST...</td>\n      <td>Assignment 4.ipynb</td>\n      <td>.ipynb</td>\n      <td>3239331</td>\n      <td>2022-12-01 11:38:17.013347328</td>\n      <td>2022-12-01 11:38:17.013347328</td>\n    </tr>\n    <tr>\n      <th>38</th>\n      <td>/Users/nilsjennissen/Documents/02_PRIVAT/01_ST...</td>\n      <td>Nils_Jennissen_Assignment 4.ipynb</td>\n      <td>.ipynb</td>\n      <td>2692194</td>\n      <td>2022-12-01 17:26:39.064670464</td>\n      <td>2022-12-01 17:19:26.732397056</td>\n    </tr>\n    <tr>\n      <th>39</th>\n      <td>/Users/nilsjennissen/Documents/02_PRIVAT/01_ST...</td>\n      <td>img_000000004_TRITC_000.tif</td>\n      <td>.tif</td>\n      <td>2752676</td>\n      <td>2022-11-29 21:08:24.547343616</td>\n      <td>2016-04-04 00:09:56.000000000</td>\n    </tr>\n    <tr>\n      <th>40</th>\n      <td>/Users/nilsjennissen/Documents/02_PRIVAT/01_ST...</td>\n      <td>img_000000013_TRITC_000.tif</td>\n      <td>.tif</td>\n      <td>2752676</td>\n      <td>2022-11-29 21:08:24.562364672</td>\n      <td>2016-04-04 01:03:54.000000000</td>\n    </tr>\n    <tr>\n      <th>41</th>\n      <td>/Users/nilsjennissen/Documents/02_PRIVAT/01_ST...</td>\n      <td>img_000000029_Brightfield_000.tif</td>\n      <td>.tif</td>\n      <td>2752676</td>\n      <td>2022-11-29 21:08:24.575056128</td>\n      <td>2016-04-04 02:39:56.000000000</td>\n    </tr>\n    <tr>\n      <th>42</th>\n      <td>/Users/nilsjennissen/Documents/02_PRIVAT/01_ST...</td>\n      <td>img_000000017_TRITC_000.tif</td>\n      <td>.tif</td>\n      <td>2752676</td>\n      <td>2022-11-29 21:08:24.585651968</td>\n      <td>2016-04-04 01:27:54.000000000</td>\n    </tr>\n    <tr>\n      <th>43</th>\n      <td>/Users/nilsjennissen/Documents/02_PRIVAT/01_ST...</td>\n      <td>img_000000000_TRITC_000.tif</td>\n      <td>.tif</td>\n      <td>2757418</td>\n      <td>2022-11-29 21:08:24.589620992</td>\n      <td>2016-04-04 23:57:42.000000000</td>\n    </tr>\n    <tr>\n      <th>44</th>\n      <td>/Users/nilsjennissen/Documents/02_PRIVAT/01_ST...</td>\n      <td>img_000000028_Brightfield_000.tif</td>\n      <td>.tif</td>\n      <td>2752676</td>\n      <td>2022-11-29 21:08:24.593812224</td>\n      <td>2016-04-04 02:33:56.000000000</td>\n    </tr>\n    <tr>\n      <th>45</th>\n      <td>/Users/nilsjennissen/Documents/02_PRIVAT/01_ST...</td>\n      <td>img_000000010_TRITC_000.tif</td>\n      <td>.tif</td>\n      <td>2752676</td>\n      <td>2022-11-29 21:08:24.598711808</td>\n      <td>2016-04-04 00:45:56.000000000</td>\n    </tr>\n    <tr>\n      <th>46</th>\n      <td>/Users/nilsjennissen/Documents/02_PRIVAT/01_ST...</td>\n      <td>img_000000007_TRITC_000.tif</td>\n      <td>.tif</td>\n      <td>2752676</td>\n      <td>2022-11-29 21:08:24.607737088</td>\n      <td>2016-04-04 00:27:56.000000000</td>\n    </tr>\n    <tr>\n      <th>47</th>\n      <td>/Users/nilsjennissen/Documents/02_PRIVAT/01_ST...</td>\n      <td>img_000000029_TRITC_000.tif</td>\n      <td>.tif</td>\n      <td>2752676</td>\n      <td>2022-11-29 21:08:24.618207744</td>\n      <td>2016-04-04 02:39:54.000000000</td>\n    </tr>\n    <tr>\n      <th>48</th>\n      <td>/Users/nilsjennissen/Documents/02_PRIVAT/01_ST...</td>\n      <td>metadata.txt</td>\n      <td>.txt</td>\n      <td>278931</td>\n      <td>2022-11-29 21:08:24.625187072</td>\n      <td>2016-04-04 02:41:36.000000000</td>\n    </tr>\n    <tr>\n      <th>49</th>\n      <td>/Users/nilsjennissen/Documents/02_PRIVAT/01_ST...</td>\n      <td>img_000000003_TRITC_000.tif</td>\n      <td>.tif</td>\n      <td>2752676</td>\n      <td>2022-11-29 21:08:24.644417024</td>\n      <td>2016-04-04 00:03:54.000000000</td>\n    </tr>\n  </tbody>\n</table>\n</div>"
     },
     "execution_count": 4,
     "metadata": {},
     "output_type": "execute_result"
    }
   ],
   "source": [
    "df.head(50)"
   ],
   "metadata": {
    "collapsed": false,
    "ExecuteTime": {
     "end_time": "2023-05-15T19:01:06.649250Z",
     "start_time": "2023-05-15T19:01:06.643528Z"
    }
   }
  },
  {
   "cell_type": "code",
   "execution_count": 7,
   "outputs": [
    {
     "data": {
      "text/plain": "(39620, 6)"
     },
     "execution_count": 7,
     "metadata": {},
     "output_type": "execute_result"
    }
   ],
   "source": [
    "# Get shape of dataframe\n",
    "df.shape"
   ],
   "metadata": {
    "collapsed": false,
    "ExecuteTime": {
     "end_time": "2023-05-15T19:01:49.109907Z",
     "start_time": "2023-05-15T19:01:49.105519Z"
    }
   }
  },
  {
   "cell_type": "code",
   "execution_count": 7,
   "outputs": [
    {
     "data": {
      "text/plain": "                                            Filepath             Filename   \n0  /Users/nilsjennissen/Documents/02_PRIVAT/01_ST...  Assignment8Bacteria  \\\n1  /Users/nilsjennissen/Documents/02_PRIVAT/01_ST...          Assignment1   \n2  /Users/nilsjennissen/Documents/02_PRIVAT/01_ST...            .DS_Store   \n3  /Users/nilsjennissen/Documents/02_PRIVAT/01_ST...             Lecture2   \n4  /Users/nilsjennissen/Documents/02_PRIVAT/01_ST...             Lecture5   \n\n  Fileextension  Filesize              Filecreationdate   \n0                     288 2022-12-01 17:19:26.951033344  \\\n1                     544 2023-05-10 23:11:12.736709120   \n2                   12292 2023-04-30 01:51:21.110024704   \n3                     320 2022-11-29 13:31:40.031290368   \n4                     384 2023-02-01 14:51:31.832541184   \n\n           Filemodificationdate Modifiedthisweek  \n0 2022-12-01 17:16:31.000000000            Older  \n1 2023-05-10 23:11:08.000000000       This week!  \n2 2023-04-30 01:51:21.110024704            Older  \n3 2022-11-29 13:31:39.000000000            Older  \n4 2023-02-01 14:51:26.000000000            Older  ",
      "text/html": "<div>\n<style scoped>\n    .dataframe tbody tr th:only-of-type {\n        vertical-align: middle;\n    }\n\n    .dataframe tbody tr th {\n        vertical-align: top;\n    }\n\n    .dataframe thead th {\n        text-align: right;\n    }\n</style>\n<table border=\"1\" class=\"dataframe\">\n  <thead>\n    <tr style=\"text-align: right;\">\n      <th></th>\n      <th>Filepath</th>\n      <th>Filename</th>\n      <th>Fileextension</th>\n      <th>Filesize</th>\n      <th>Filecreationdate</th>\n      <th>Filemodificationdate</th>\n      <th>Modifiedthisweek</th>\n    </tr>\n  </thead>\n  <tbody>\n    <tr>\n      <th>0</th>\n      <td>/Users/nilsjennissen/Documents/02_PRIVAT/01_ST...</td>\n      <td>Assignment8Bacteria</td>\n      <td></td>\n      <td>288</td>\n      <td>2022-12-01 17:19:26.951033344</td>\n      <td>2022-12-01 17:16:31.000000000</td>\n      <td>Older</td>\n    </tr>\n    <tr>\n      <th>1</th>\n      <td>/Users/nilsjennissen/Documents/02_PRIVAT/01_ST...</td>\n      <td>Assignment1</td>\n      <td></td>\n      <td>544</td>\n      <td>2023-05-10 23:11:12.736709120</td>\n      <td>2023-05-10 23:11:08.000000000</td>\n      <td>This week!</td>\n    </tr>\n    <tr>\n      <th>2</th>\n      <td>/Users/nilsjennissen/Documents/02_PRIVAT/01_ST...</td>\n      <td>.DS_Store</td>\n      <td></td>\n      <td>12292</td>\n      <td>2023-04-30 01:51:21.110024704</td>\n      <td>2023-04-30 01:51:21.110024704</td>\n      <td>Older</td>\n    </tr>\n    <tr>\n      <th>3</th>\n      <td>/Users/nilsjennissen/Documents/02_PRIVAT/01_ST...</td>\n      <td>Lecture2</td>\n      <td></td>\n      <td>320</td>\n      <td>2022-11-29 13:31:40.031290368</td>\n      <td>2022-11-29 13:31:39.000000000</td>\n      <td>Older</td>\n    </tr>\n    <tr>\n      <th>4</th>\n      <td>/Users/nilsjennissen/Documents/02_PRIVAT/01_ST...</td>\n      <td>Lecture5</td>\n      <td></td>\n      <td>384</td>\n      <td>2023-02-01 14:51:31.832541184</td>\n      <td>2023-02-01 14:51:26.000000000</td>\n      <td>Older</td>\n    </tr>\n  </tbody>\n</table>\n</div>"
     },
     "execution_count": 7,
     "metadata": {},
     "output_type": "execute_result"
    }
   ],
   "source": [
    "# Create column for files that have been modified this week\n",
    "df['Modifiedthisweek'] = df['Filemodificationdate'].apply(lambda x: 'This week!' if x > pd.Timestamp.now() - pd.Timedelta(days=7) else 'Older')\n",
    "df.head()"
   ],
   "metadata": {
    "collapsed": false,
    "ExecuteTime": {
     "end_time": "2023-05-12T21:07:55.106759Z",
     "start_time": "2023-05-12T21:07:54.862786Z"
    }
   }
  },
  {
   "cell_type": "code",
   "execution_count": 8,
   "outputs": [
    {
     "data": {
      "text/plain": "                                            Filepath             Filename   \n0  /Users/nilsjennissen/Documents/02_PRIVAT/01_ST...  Assignment8Bacteria  \\\n1  /Users/nilsjennissen/Documents/02_PRIVAT/01_ST...          Assignment1   \n2  /Users/nilsjennissen/Documents/02_PRIVAT/01_ST...            .DS_Store   \n3  /Users/nilsjennissen/Documents/02_PRIVAT/01_ST...             Lecture2   \n4  /Users/nilsjennissen/Documents/02_PRIVAT/01_ST...             Lecture5   \n\n  Fileextension  Filesize Filecreationdate Filemodificationdate   \n0                     288       2022-12-01           2022-12-01  \\\n1                     544       2023-05-10           2023-05-10   \n2                   12292       2023-04-30           2023-04-30   \n3                     320       2022-11-29           2022-11-29   \n4                     384       2023-02-01           2023-02-01   \n\n  Modifiedthisweek  \n0            Older  \n1       This week!  \n2            Older  \n3            Older  \n4            Older  ",
      "text/html": "<div>\n<style scoped>\n    .dataframe tbody tr th:only-of-type {\n        vertical-align: middle;\n    }\n\n    .dataframe tbody tr th {\n        vertical-align: top;\n    }\n\n    .dataframe thead th {\n        text-align: right;\n    }\n</style>\n<table border=\"1\" class=\"dataframe\">\n  <thead>\n    <tr style=\"text-align: right;\">\n      <th></th>\n      <th>Filepath</th>\n      <th>Filename</th>\n      <th>Fileextension</th>\n      <th>Filesize</th>\n      <th>Filecreationdate</th>\n      <th>Filemodificationdate</th>\n      <th>Modifiedthisweek</th>\n    </tr>\n  </thead>\n  <tbody>\n    <tr>\n      <th>0</th>\n      <td>/Users/nilsjennissen/Documents/02_PRIVAT/01_ST...</td>\n      <td>Assignment8Bacteria</td>\n      <td></td>\n      <td>288</td>\n      <td>2022-12-01</td>\n      <td>2022-12-01</td>\n      <td>Older</td>\n    </tr>\n    <tr>\n      <th>1</th>\n      <td>/Users/nilsjennissen/Documents/02_PRIVAT/01_ST...</td>\n      <td>Assignment1</td>\n      <td></td>\n      <td>544</td>\n      <td>2023-05-10</td>\n      <td>2023-05-10</td>\n      <td>This week!</td>\n    </tr>\n    <tr>\n      <th>2</th>\n      <td>/Users/nilsjennissen/Documents/02_PRIVAT/01_ST...</td>\n      <td>.DS_Store</td>\n      <td></td>\n      <td>12292</td>\n      <td>2023-04-30</td>\n      <td>2023-04-30</td>\n      <td>Older</td>\n    </tr>\n    <tr>\n      <th>3</th>\n      <td>/Users/nilsjennissen/Documents/02_PRIVAT/01_ST...</td>\n      <td>Lecture2</td>\n      <td></td>\n      <td>320</td>\n      <td>2022-11-29</td>\n      <td>2022-11-29</td>\n      <td>Older</td>\n    </tr>\n    <tr>\n      <th>4</th>\n      <td>/Users/nilsjennissen/Documents/02_PRIVAT/01_ST...</td>\n      <td>Lecture5</td>\n      <td></td>\n      <td>384</td>\n      <td>2023-02-01</td>\n      <td>2023-02-01</td>\n      <td>Older</td>\n    </tr>\n  </tbody>\n</table>\n</div>"
     },
     "execution_count": 8,
     "metadata": {},
     "output_type": "execute_result"
    }
   ],
   "source": [
    "# Transform Filecreationdate to date format\n",
    "df['Filecreationdate'] = df['Filecreationdate'].dt.date\n",
    "df['Filemodificationdate'] = df['Filemodificationdate'].dt.date\n",
    "\n",
    "df.head()"
   ],
   "metadata": {
    "collapsed": false,
    "ExecuteTime": {
     "end_time": "2023-05-12T21:07:55.837087Z",
     "start_time": "2023-05-12T21:07:55.822515Z"
    }
   }
  },
  {
   "cell_type": "code",
   "execution_count": 9,
   "outputs": [
    {
     "data": {
      "text/plain": "                                            Filepath             Filename   \n0  /Users/nilsjennissen/Documents/02_PRIVAT/01_ST...  Assignment8Bacteria  \\\n1  /Users/nilsjennissen/Documents/02_PRIVAT/01_ST...          Assignment1   \n2  /Users/nilsjennissen/Documents/02_PRIVAT/01_ST...            .DS_Store   \n3  /Users/nilsjennissen/Documents/02_PRIVAT/01_ST...             Lecture2   \n4  /Users/nilsjennissen/Documents/02_PRIVAT/01_ST...             Lecture5   \n\n  Fileextension  Filesize Filecreationdate Filemodificationdate   \n0                     288       2022-12-01           2022-12-01  \\\n1                     544       2023-05-10           2023-05-10   \n2                   12292       2023-04-30           2023-04-30   \n3                     320       2022-11-29           2022-11-29   \n4                     384       2023-02-01           2023-02-01   \n\n  Modifiedthisweek Fileorfolder  \n0            Older       Folder  \n1       This week!       Folder  \n2            Older       Folder  \n3            Older       Folder  \n4            Older       Folder  ",
      "text/html": "<div>\n<style scoped>\n    .dataframe tbody tr th:only-of-type {\n        vertical-align: middle;\n    }\n\n    .dataframe tbody tr th {\n        vertical-align: top;\n    }\n\n    .dataframe thead th {\n        text-align: right;\n    }\n</style>\n<table border=\"1\" class=\"dataframe\">\n  <thead>\n    <tr style=\"text-align: right;\">\n      <th></th>\n      <th>Filepath</th>\n      <th>Filename</th>\n      <th>Fileextension</th>\n      <th>Filesize</th>\n      <th>Filecreationdate</th>\n      <th>Filemodificationdate</th>\n      <th>Modifiedthisweek</th>\n      <th>Fileorfolder</th>\n    </tr>\n  </thead>\n  <tbody>\n    <tr>\n      <th>0</th>\n      <td>/Users/nilsjennissen/Documents/02_PRIVAT/01_ST...</td>\n      <td>Assignment8Bacteria</td>\n      <td></td>\n      <td>288</td>\n      <td>2022-12-01</td>\n      <td>2022-12-01</td>\n      <td>Older</td>\n      <td>Folder</td>\n    </tr>\n    <tr>\n      <th>1</th>\n      <td>/Users/nilsjennissen/Documents/02_PRIVAT/01_ST...</td>\n      <td>Assignment1</td>\n      <td></td>\n      <td>544</td>\n      <td>2023-05-10</td>\n      <td>2023-05-10</td>\n      <td>This week!</td>\n      <td>Folder</td>\n    </tr>\n    <tr>\n      <th>2</th>\n      <td>/Users/nilsjennissen/Documents/02_PRIVAT/01_ST...</td>\n      <td>.DS_Store</td>\n      <td></td>\n      <td>12292</td>\n      <td>2023-04-30</td>\n      <td>2023-04-30</td>\n      <td>Older</td>\n      <td>Folder</td>\n    </tr>\n    <tr>\n      <th>3</th>\n      <td>/Users/nilsjennissen/Documents/02_PRIVAT/01_ST...</td>\n      <td>Lecture2</td>\n      <td></td>\n      <td>320</td>\n      <td>2022-11-29</td>\n      <td>2022-11-29</td>\n      <td>Older</td>\n      <td>Folder</td>\n    </tr>\n    <tr>\n      <th>4</th>\n      <td>/Users/nilsjennissen/Documents/02_PRIVAT/01_ST...</td>\n      <td>Lecture5</td>\n      <td></td>\n      <td>384</td>\n      <td>2023-02-01</td>\n      <td>2023-02-01</td>\n      <td>Older</td>\n      <td>Folder</td>\n    </tr>\n  </tbody>\n</table>\n</div>"
     },
     "execution_count": 9,
     "metadata": {},
     "output_type": "execute_result"
    }
   ],
   "source": [
    "# Create column for file or folder when Fileextension is empty\n",
    "df['Fileorfolder'] = df['Fileextension'].apply(lambda x: 'Folder' if x == '' else 'File')\n",
    "df.head()"
   ],
   "metadata": {
    "collapsed": false,
    "ExecuteTime": {
     "end_time": "2023-05-12T21:07:56.829669Z",
     "start_time": "2023-05-12T21:07:56.819540Z"
    }
   }
  },
  {
   "cell_type": "code",
   "execution_count": 10,
   "outputs": [
    {
     "data": {
      "text/plain": "                                            Filepath             Filename   \n0  /Users/nilsjennissen/Documents/02_PRIVAT/01_ST...  Assignment8Bacteria  \\\n1  /Users/nilsjennissen/Documents/02_PRIVAT/01_ST...          Assignment1   \n2  /Users/nilsjennissen/Documents/02_PRIVAT/01_ST...            .DS_Store   \n3  /Users/nilsjennissen/Documents/02_PRIVAT/01_ST...             Lecture2   \n4  /Users/nilsjennissen/Documents/02_PRIVAT/01_ST...             Lecture5   \n\n  Fileextension  Filesize Filecreationdate Filemodificationdate   \n0                     288       2022-12-01           2022-12-01  \\\n1                     544       2023-05-10           2023-05-10   \n2                   12292       2023-04-30           2023-04-30   \n3                     320       2022-11-29           2022-11-29   \n4                     384       2023-02-01           2023-02-01   \n\n  Modifiedthisweek Fileorfolder      Hidden  \n0            Older       Folder  Not hidden  \n1       This week!       Folder  Not hidden  \n2            Older       Folder      Hidden  \n3            Older       Folder  Not hidden  \n4            Older       Folder  Not hidden  ",
      "text/html": "<div>\n<style scoped>\n    .dataframe tbody tr th:only-of-type {\n        vertical-align: middle;\n    }\n\n    .dataframe tbody tr th {\n        vertical-align: top;\n    }\n\n    .dataframe thead th {\n        text-align: right;\n    }\n</style>\n<table border=\"1\" class=\"dataframe\">\n  <thead>\n    <tr style=\"text-align: right;\">\n      <th></th>\n      <th>Filepath</th>\n      <th>Filename</th>\n      <th>Fileextension</th>\n      <th>Filesize</th>\n      <th>Filecreationdate</th>\n      <th>Filemodificationdate</th>\n      <th>Modifiedthisweek</th>\n      <th>Fileorfolder</th>\n      <th>Hidden</th>\n    </tr>\n  </thead>\n  <tbody>\n    <tr>\n      <th>0</th>\n      <td>/Users/nilsjennissen/Documents/02_PRIVAT/01_ST...</td>\n      <td>Assignment8Bacteria</td>\n      <td></td>\n      <td>288</td>\n      <td>2022-12-01</td>\n      <td>2022-12-01</td>\n      <td>Older</td>\n      <td>Folder</td>\n      <td>Not hidden</td>\n    </tr>\n    <tr>\n      <th>1</th>\n      <td>/Users/nilsjennissen/Documents/02_PRIVAT/01_ST...</td>\n      <td>Assignment1</td>\n      <td></td>\n      <td>544</td>\n      <td>2023-05-10</td>\n      <td>2023-05-10</td>\n      <td>This week!</td>\n      <td>Folder</td>\n      <td>Not hidden</td>\n    </tr>\n    <tr>\n      <th>2</th>\n      <td>/Users/nilsjennissen/Documents/02_PRIVAT/01_ST...</td>\n      <td>.DS_Store</td>\n      <td></td>\n      <td>12292</td>\n      <td>2023-04-30</td>\n      <td>2023-04-30</td>\n      <td>Older</td>\n      <td>Folder</td>\n      <td>Hidden</td>\n    </tr>\n    <tr>\n      <th>3</th>\n      <td>/Users/nilsjennissen/Documents/02_PRIVAT/01_ST...</td>\n      <td>Lecture2</td>\n      <td></td>\n      <td>320</td>\n      <td>2022-11-29</td>\n      <td>2022-11-29</td>\n      <td>Older</td>\n      <td>Folder</td>\n      <td>Not hidden</td>\n    </tr>\n    <tr>\n      <th>4</th>\n      <td>/Users/nilsjennissen/Documents/02_PRIVAT/01_ST...</td>\n      <td>Lecture5</td>\n      <td></td>\n      <td>384</td>\n      <td>2023-02-01</td>\n      <td>2023-02-01</td>\n      <td>Older</td>\n      <td>Folder</td>\n      <td>Not hidden</td>\n    </tr>\n  </tbody>\n</table>\n</div>"
     },
     "execution_count": 10,
     "metadata": {},
     "output_type": "execute_result"
    }
   ],
   "source": [
    "# Create column for hidden or not hidden when Filename starts with a dot\n",
    "df['Hidden'] = df['Filename'].apply(lambda x: 'Hidden' if x.startswith('.') else 'Not hidden')\n",
    "df.head()"
   ],
   "metadata": {
    "collapsed": false,
    "ExecuteTime": {
     "end_time": "2023-05-12T21:07:57.927686Z",
     "start_time": "2023-05-12T21:07:57.919652Z"
    }
   }
  },
  {
   "cell_type": "code",
   "execution_count": 11,
   "outputs": [
    {
     "data": {
      "text/plain": "                                            Filepath             Filename   \n0  /Users/nilsjennissen/Documents/02_PRIVAT/01_ST...  Assignment8Bacteria  \\\n1  /Users/nilsjennissen/Documents/02_PRIVAT/01_ST...          Assignment1   \n2  /Users/nilsjennissen/Documents/02_PRIVAT/01_ST...            .DS_Store   \n3  /Users/nilsjennissen/Documents/02_PRIVAT/01_ST...             Lecture2   \n4  /Users/nilsjennissen/Documents/02_PRIVAT/01_ST...             Lecture5   \n\n  Fileextension  Filesize Filecreationdate Filemodificationdate   \n0                     288       2022-12-01           2022-12-01  \\\n1                     544       2023-05-10           2023-05-10   \n2                   12292       2023-04-30           2023-04-30   \n3                     320       2022-11-29           2022-11-29   \n4                     384       2023-02-01           2023-02-01   \n\n  Modifiedthisweek Fileorfolder      Hidden                 Parentfolder  \n0            Older       Folder  Not hidden  04_Data_Science_Foundations  \n1       This week!       Folder  Not hidden  04_Data_Science_Foundations  \n2            Older       Folder      Hidden  04_Data_Science_Foundations  \n3            Older       Folder  Not hidden  04_Data_Science_Foundations  \n4            Older       Folder  Not hidden  04_Data_Science_Foundations  ",
      "text/html": "<div>\n<style scoped>\n    .dataframe tbody tr th:only-of-type {\n        vertical-align: middle;\n    }\n\n    .dataframe tbody tr th {\n        vertical-align: top;\n    }\n\n    .dataframe thead th {\n        text-align: right;\n    }\n</style>\n<table border=\"1\" class=\"dataframe\">\n  <thead>\n    <tr style=\"text-align: right;\">\n      <th></th>\n      <th>Filepath</th>\n      <th>Filename</th>\n      <th>Fileextension</th>\n      <th>Filesize</th>\n      <th>Filecreationdate</th>\n      <th>Filemodificationdate</th>\n      <th>Modifiedthisweek</th>\n      <th>Fileorfolder</th>\n      <th>Hidden</th>\n      <th>Parentfolder</th>\n    </tr>\n  </thead>\n  <tbody>\n    <tr>\n      <th>0</th>\n      <td>/Users/nilsjennissen/Documents/02_PRIVAT/01_ST...</td>\n      <td>Assignment8Bacteria</td>\n      <td></td>\n      <td>288</td>\n      <td>2022-12-01</td>\n      <td>2022-12-01</td>\n      <td>Older</td>\n      <td>Folder</td>\n      <td>Not hidden</td>\n      <td>04_Data_Science_Foundations</td>\n    </tr>\n    <tr>\n      <th>1</th>\n      <td>/Users/nilsjennissen/Documents/02_PRIVAT/01_ST...</td>\n      <td>Assignment1</td>\n      <td></td>\n      <td>544</td>\n      <td>2023-05-10</td>\n      <td>2023-05-10</td>\n      <td>This week!</td>\n      <td>Folder</td>\n      <td>Not hidden</td>\n      <td>04_Data_Science_Foundations</td>\n    </tr>\n    <tr>\n      <th>2</th>\n      <td>/Users/nilsjennissen/Documents/02_PRIVAT/01_ST...</td>\n      <td>.DS_Store</td>\n      <td></td>\n      <td>12292</td>\n      <td>2023-04-30</td>\n      <td>2023-04-30</td>\n      <td>Older</td>\n      <td>Folder</td>\n      <td>Hidden</td>\n      <td>04_Data_Science_Foundations</td>\n    </tr>\n    <tr>\n      <th>3</th>\n      <td>/Users/nilsjennissen/Documents/02_PRIVAT/01_ST...</td>\n      <td>Lecture2</td>\n      <td></td>\n      <td>320</td>\n      <td>2022-11-29</td>\n      <td>2022-11-29</td>\n      <td>Older</td>\n      <td>Folder</td>\n      <td>Not hidden</td>\n      <td>04_Data_Science_Foundations</td>\n    </tr>\n    <tr>\n      <th>4</th>\n      <td>/Users/nilsjennissen/Documents/02_PRIVAT/01_ST...</td>\n      <td>Lecture5</td>\n      <td></td>\n      <td>384</td>\n      <td>2023-02-01</td>\n      <td>2023-02-01</td>\n      <td>Older</td>\n      <td>Folder</td>\n      <td>Not hidden</td>\n      <td>04_Data_Science_Foundations</td>\n    </tr>\n  </tbody>\n</table>\n</div>"
     },
     "execution_count": 11,
     "metadata": {},
     "output_type": "execute_result"
    }
   ],
   "source": [
    "# Get the parent folder name cut from the filepath\n",
    "df['Parentfolder'] = df['Filepath'].apply(lambda x: x.parent.name)\n",
    "df.head()"
   ],
   "metadata": {
    "collapsed": false,
    "ExecuteTime": {
     "end_time": "2023-05-12T21:08:05.100177Z",
     "start_time": "2023-05-12T21:08:05.060926Z"
    }
   }
  },
  {
   "cell_type": "code",
   "execution_count": 5,
   "outputs": [],
   "source": [
    "# Combining all of this in a function\n",
    "def get_csv(path):\n",
    "    df = pd.DataFrame(path.rglob('*'))\n",
    "    df = df.rename(columns={0: 'Filepath'})\n",
    "    df['Filename'] = df['Filepath'].apply(lambda x: x.name)\n",
    "    df['Fileextension'] = df['Filepath'].apply(lambda x: x.suffix)\n",
    "    df['Filesize'] = df['Filepath'].apply(lambda x: x.stat().st_size)\n",
    "    df['Filecreationdate'] = df['Filepath'].apply(lambda x: x.stat().st_ctime)\n",
    "    df['Filemodificationdate'] = df['Filepath'].apply(lambda x: x.stat().st_mtime)\n",
    "    df['Filecreationdate'] = pd.to_datetime(df['Filecreationdate'], unit='s')\n",
    "    df['Filemodificationdate'] = pd.to_datetime(df['Filemodificationdate'], unit='s')\n",
    "    df['Modifiedthisweek'] = df['Filemodificationdate'].apply(lambda x: 'This week!' if x > pd.Timestamp.now() - pd.Timedelta(days=7) else 'Older')\n",
    "    df['Filecreationdate'] = df['Filecreationdate'].dt.date\n",
    "    df['Filemodificationdate'] = df['Filemodificationdate'].dt.date\n",
    "    df['Fileorfolder'] = df['Fileextension'].apply(lambda x: 'Folder' if x == '' else 'File')\n",
    "    df['Hidden'] = df['Filename'].apply(lambda x: 'Hidden' if x.startswith('.') else 'Not hidden')\n",
    "    df['Parentfolder'] = df['Filepath'].apply(lambda x: x.parent.name)\n",
    "    return df\n"
   ],
   "metadata": {
    "collapsed": false,
    "ExecuteTime": {
     "end_time": "2023-05-14T15:13:03.012257Z",
     "start_time": "2023-05-14T15:13:03.009185Z"
    }
   }
  },
  {
   "cell_type": "code",
   "execution_count": 6,
   "outputs": [
    {
     "data": {
      "text/plain": "                                            Filepath             Filename   \n0  /Users/nilsjennissen/Documents/02_PRIVAT/01_ST...  Assignment8Bacteria  \\\n1  /Users/nilsjennissen/Documents/02_PRIVAT/01_ST...          Assignment1   \n2  /Users/nilsjennissen/Documents/02_PRIVAT/01_ST...            .DS_Store   \n3  /Users/nilsjennissen/Documents/02_PRIVAT/01_ST...             Lecture2   \n4  /Users/nilsjennissen/Documents/02_PRIVAT/01_ST...             Lecture5   \n\n  Fileextension  Filesize Filecreationdate Filemodificationdate   \n0                     288       2022-12-01           2022-12-01  \\\n1                     544       2023-05-10           2023-05-10   \n2                   12292       2023-04-30           2023-04-30   \n3                     320       2022-11-29           2022-11-29   \n4                     384       2023-02-01           2023-02-01   \n\n  Modifiedthisweek Fileorfolder      Hidden                 Parentfolder  \n0            Older       Folder  Not hidden  04_Data_Science_Foundations  \n1       This week!       Folder  Not hidden  04_Data_Science_Foundations  \n2            Older       Folder      Hidden  04_Data_Science_Foundations  \n3            Older       Folder  Not hidden  04_Data_Science_Foundations  \n4            Older       Folder  Not hidden  04_Data_Science_Foundations  ",
      "text/html": "<div>\n<style scoped>\n    .dataframe tbody tr th:only-of-type {\n        vertical-align: middle;\n    }\n\n    .dataframe tbody tr th {\n        vertical-align: top;\n    }\n\n    .dataframe thead th {\n        text-align: right;\n    }\n</style>\n<table border=\"1\" class=\"dataframe\">\n  <thead>\n    <tr style=\"text-align: right;\">\n      <th></th>\n      <th>Filepath</th>\n      <th>Filename</th>\n      <th>Fileextension</th>\n      <th>Filesize</th>\n      <th>Filecreationdate</th>\n      <th>Filemodificationdate</th>\n      <th>Modifiedthisweek</th>\n      <th>Fileorfolder</th>\n      <th>Hidden</th>\n      <th>Parentfolder</th>\n    </tr>\n  </thead>\n  <tbody>\n    <tr>\n      <th>0</th>\n      <td>/Users/nilsjennissen/Documents/02_PRIVAT/01_ST...</td>\n      <td>Assignment8Bacteria</td>\n      <td></td>\n      <td>288</td>\n      <td>2022-12-01</td>\n      <td>2022-12-01</td>\n      <td>Older</td>\n      <td>Folder</td>\n      <td>Not hidden</td>\n      <td>04_Data_Science_Foundations</td>\n    </tr>\n    <tr>\n      <th>1</th>\n      <td>/Users/nilsjennissen/Documents/02_PRIVAT/01_ST...</td>\n      <td>Assignment1</td>\n      <td></td>\n      <td>544</td>\n      <td>2023-05-10</td>\n      <td>2023-05-10</td>\n      <td>This week!</td>\n      <td>Folder</td>\n      <td>Not hidden</td>\n      <td>04_Data_Science_Foundations</td>\n    </tr>\n    <tr>\n      <th>2</th>\n      <td>/Users/nilsjennissen/Documents/02_PRIVAT/01_ST...</td>\n      <td>.DS_Store</td>\n      <td></td>\n      <td>12292</td>\n      <td>2023-04-30</td>\n      <td>2023-04-30</td>\n      <td>Older</td>\n      <td>Folder</td>\n      <td>Hidden</td>\n      <td>04_Data_Science_Foundations</td>\n    </tr>\n    <tr>\n      <th>3</th>\n      <td>/Users/nilsjennissen/Documents/02_PRIVAT/01_ST...</td>\n      <td>Lecture2</td>\n      <td></td>\n      <td>320</td>\n      <td>2022-11-29</td>\n      <td>2022-11-29</td>\n      <td>Older</td>\n      <td>Folder</td>\n      <td>Not hidden</td>\n      <td>04_Data_Science_Foundations</td>\n    </tr>\n    <tr>\n      <th>4</th>\n      <td>/Users/nilsjennissen/Documents/02_PRIVAT/01_ST...</td>\n      <td>Lecture5</td>\n      <td></td>\n      <td>384</td>\n      <td>2023-02-01</td>\n      <td>2023-02-01</td>\n      <td>Older</td>\n      <td>Folder</td>\n      <td>Not hidden</td>\n      <td>04_Data_Science_Foundations</td>\n    </tr>\n  </tbody>\n</table>\n</div>"
     },
     "execution_count": 6,
     "metadata": {},
     "output_type": "execute_result"
    }
   ],
   "source": [
    "# Test the function\n",
    "path = pathlib.Path('/Users/nilsjennissen/Documents/02_PRIVAT/01_STUDIUM/01_BTS/04_Data_Science_Foundations')\n",
    "df = get_csv(path)\n",
    "df.head()"
   ],
   "metadata": {
    "collapsed": false,
    "ExecuteTime": {
     "end_time": "2023-05-14T15:13:07.362708Z",
     "start_time": "2023-05-14T15:13:04.379613Z"
    }
   }
  },
  {
   "cell_type": "code",
   "execution_count": 8,
   "outputs": [],
   "source": [],
   "metadata": {
    "collapsed": false,
    "ExecuteTime": {
     "end_time": "2023-05-14T15:13:20.956172Z",
     "start_time": "2023-05-14T15:13:20.711091Z"
    }
   }
  }
 ],
 "metadata": {
  "kernelspec": {
   "display_name": "Python 3",
   "language": "python",
   "name": "python3"
  },
  "language_info": {
   "codemirror_mode": {
    "name": "ipython",
    "version": 2
   },
   "file_extension": ".py",
   "mimetype": "text/x-python",
   "name": "python",
   "nbconvert_exporter": "python",
   "pygments_lexer": "ipython2",
   "version": "2.7.6"
  }
 },
 "nbformat": 4,
 "nbformat_minor": 0
}
